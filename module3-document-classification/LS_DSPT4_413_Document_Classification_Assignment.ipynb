{
 "cells": [
  {
   "cell_type": "markdown",
   "metadata": {},
   "source": [
    "Lambda School Data Science\n",
    "\n",
    "*Unit 4, Sprint 1, Module 3*\n",
    "\n",
    "---"
   ]
  },
  {
   "cell_type": "markdown",
   "metadata": {},
   "source": [
    "# Document Classification (Assignment)\n",
    "\n",
    "This notebook is for you to practice skills during lecture.\n",
    "\n",
    "Today's guided module project and assignment will be different. You already know how to do classification. You ready know how to extract features from documents. So? That means you're ready to combine and practice those skills in a kaggle competition. We we will open with a five minute sprint explaining the competition, and then give you 25 minutes to work. After those twenty five minutes are up, I will give a 5-minute demo an NLP technique that will help you with document classification (*and **maybe** the competition*).\n",
    "\n",
    "Today's all about having fun and practicing your skills.\n",
    "\n",
    "## Sections\n",
    "* <a href=\"#p1\">Part 1</a>: Text Feature Extraction & Classification Pipelines\n",
    "* <a href=\"#p2\">Part 2</a>: Latent Semantic Indexing\n",
    "* <a href=\"#p3\">Part 3</a>: Word Embeddings with Spacy\n",
    "* <a href=\"#p4\">Part 4</a>: Post Lecture Assignment"
   ]
  },
  {
   "cell_type": "markdown",
   "metadata": {},
   "source": [
    "# Text Feature Extraction & Classification Pipelines (Learn)\n",
    "<a id=\"p1\"></a>"
   ]
  },
  {
   "cell_type": "markdown",
   "metadata": {
    "toc-hr-collapsed": true
   },
   "source": [
    "## Follow Along \n",
    "\n",
    "What you should be doing now:\n",
    "1. Join the Kaggle Competition\n",
    "2. Download the data\n",
    "3. Train a model (try using the pipe method I just demoed)"
   ]
  },
  {
   "cell_type": "markdown",
   "metadata": {},
   "source": [
    "### Load Competition Data"
   ]
  },
  {
   "cell_type": "code",
   "execution_count": 46,
   "metadata": {},
   "outputs": [
    {
     "name": "stdout",
     "output_type": "stream",
     "text": [
      "(4087, 3) (1022, 2)\n"
     ]
    }
   ],
   "source": [
    "import pandas as pd\n",
    "\n",
    "# You may need to change the path\n",
    "train = pd.read_csv('./whiskey-reviews-dspt4/train.csv')\n",
    "test = pd.read_csv('./whiskey-reviews-dspt4/test.csv')\n",
    "print(train.shape, test.shape)"
   ]
  },
  {
   "cell_type": "code",
   "execution_count": 49,
   "metadata": {},
   "outputs": [
    {
     "data": {
      "text/html": [
       "<div>\n",
       "<style scoped>\n",
       "    .dataframe tbody tr th:only-of-type {\n",
       "        vertical-align: middle;\n",
       "    }\n",
       "\n",
       "    .dataframe tbody tr th {\n",
       "        vertical-align: top;\n",
       "    }\n",
       "\n",
       "    .dataframe thead th {\n",
       "        text-align: right;\n",
       "    }\n",
       "</style>\n",
       "<table border=\"1\" class=\"dataframe\">\n",
       "  <thead>\n",
       "    <tr style=\"text-align: right;\">\n",
       "      <th></th>\n",
       "      <th>id</th>\n",
       "      <th>description</th>\n",
       "    </tr>\n",
       "  </thead>\n",
       "  <tbody>\n",
       "    <tr>\n",
       "      <th>61</th>\n",
       "      <td>4151</td>\n",
       "      <td>\\nA marriage of whiskies from bourbon, sherry, and port casks, which does help give it some complexity. A bit fleshy on the nose (sooty peat, soy sauce, sherry, tannins). It calms down on the palate (and is soothed by the sherry notes), with some additional vanilla, bitter orange, and brine. More brine and warming pepper on the finish. There’s a lot going on here, which I like, but I’m not sure all the flavors dovetail with each other well enough to deserve a higher rating.</td>\n",
       "    </tr>\n",
       "    <tr>\n",
       "      <th>617</th>\n",
       "      <td>2908</td>\n",
       "      <td>\\nAn array of tropical fruit aromas—guava, papaya, green banana—mingle with incense, fresh herbs, and homemade cranberry sauce. The palate is light, silky, and flavorful: strawberry, pineapple, grapefruit soda, and milk chocolate, with a brief cigar-wrapper finish. A higher proof would go a long way to turn this whisky from merely pleasant to excellent. (Total Wine &amp; More)</td>\n",
       "    </tr>\n",
       "    <tr>\n",
       "      <th>263</th>\n",
       "      <td>1673</td>\n",
       "      <td>\\nAn inviting and complex nose of honey, orchard fruits, apple blossom, rosewater, and subtle cinnamon. Rich and creamy in the mouth, with initially intensely sweet fruit and spice notes, followed by ginger, toffee, and vanilla. The finish is warming, gently spicy, and medium in length. Diageo Special Releases 2016 bottling. (4,932 bottles)</td>\n",
       "    </tr>\n",
       "    <tr>\n",
       "      <th>314</th>\n",
       "      <td>1445</td>\n",
       "      <td>\\nAmber. Very meaty, with a touch of cordite, then dark fruits, wet earth, and autumn woods, cut with spicy licorice and Darjeeling tea. Water brings down this exuberance, adding iris and whole grain bread. The palate has typical, full-on Mortlach brawny muscle, with chestnut honey-glazed venison. Water bringing out sweetness, but without ever losing that glowering core. Lovers of the old 16 year old apply here.</td>\n",
       "    </tr>\n",
       "    <tr>\n",
       "      <th>511</th>\n",
       "      <td>3329</td>\n",
       "      <td>\\nStarts off sweet, followed by nutmeg, cinnamon, clean oak, and a zesty bitterness. This austere yet elegant whisky slowly develops a deep complexity. Silky corn and bourbon-like vanilla toffee override distinct suggestions of apple juice, as dusty rye along with hints of dry grass lead into mashy cereal notes. Finishes with tightly integrated flavors of white pepper, gingery spices, hints of fresh-cut wood, and hot peppermint. Lovely. (Canada only) C$37</td>\n",
       "    </tr>\n",
       "    <tr>\n",
       "      <th>936</th>\n",
       "      <td>2813</td>\n",
       "      <td>\\nThis was inspired by Stewart Laing’s childhood journeys by steam locomotive from Glasgow to Speyside with his father. Hunter Laing’s blended malt includes contributions from Blair Athol, Teaninich, and Clynelish and raises toffee sauce, dried banana chips, and spring foliage, with a fringe of fresh mint. You can appreciate the cool, clean taste; ripe banana and chocolate-dipped fudge blooming into late notes of mocha, ginger, and chocolate mousse. Dry finish of ginger cookies and espresso. All aboard! £40</td>\n",
       "    </tr>\n",
       "    <tr>\n",
       "      <th>1006</th>\n",
       "      <td>4657</td>\n",
       "      <td>\\nVery pale gold color. Aggressive notes of tar, boat docks, seaweed, and smoke are tamed by a mouth-coating honeyed vanilla sweetness. Very long, smoky, salty finish. This is a youthful, powerful, relentless whisky that you will either like or loathe.</td>\n",
       "    </tr>\n",
       "    <tr>\n",
       "      <th>247</th>\n",
       "      <td>2251</td>\n",
       "      <td>\\nThese days the mighty Mortlach is a known quantity, but Diageo’s two other meaty sites—Benrinnes and Dailuaine—remain in the shadows. This is big, boisterous, and sherried, but there’s less of the gravy-browning elements you get from the other two; at Dailuaine it is fruit that is promoted alongside Seville orange, treacle, and the inevitable raisin and date. There are nods to PX sherry as well. Every bit as good as Mortlach.  £43</td>\n",
       "    </tr>\n",
       "    <tr>\n",
       "      <th>363</th>\n",
       "      <td>1234</td>\n",
       "      <td>\\nA polished whisky, light-medium in body with well-rounded flavors. Fruity (ripe orange, lemon gumdrops, candy apple), with creamy vanilla and a honeyed, toasted malt foundation. Soft, gentle oak throughout. What a lovely, gentle-natured whisky, straight down the middle! Bonus points for versatility.</td>\n",
       "    </tr>\n",
       "    <tr>\n",
       "      <th>52</th>\n",
       "      <td>4808</td>\n",
       "      <td>\\nA single grain whisky made equally from wheat and barley to keep you amused until R&amp;B Distillers builds their new distilleries. The first impression created by the oloroso cask finish is an abundance of fruit sugar sweetness; cherry, raspberry, plus freshly picked mint leaves. This is a bold, muscular, assertive grain, where the juicy fruit is soured by aniseed, licorice, and toasted walnut. Notes of dried apple accompany a hot, drying finish. Water straightens it all out though. £50</td>\n",
       "    </tr>\n",
       "    <tr>\n",
       "      <th>693</th>\n",
       "      <td>1302</td>\n",
       "      <td>\\nA blend of two straight whiskeys: a very young 2 year old high rye content whiskey and a 16 year old rye whiskey with a lower rye content. Perhaps the spiciest American whiskey I have ever tasted, yet at the same time, quite tame and mellow. Complex notes of mint, clove, cinnamon, licorice root, pine nuts, and dark chocolate, with a surprising dose of gin botanicals throughout. A soft underbelly of caramel, sweet corn, and soothing vanilla provides an interesting counterpoint. Very easy-drinking, too (hard to believe it’s 46%). Intriguing, and a must-try for rye whiskey aficionados — even if only to satisfy your curiosity.</td>\n",
       "    </tr>\n",
       "    <tr>\n",
       "      <th>593</th>\n",
       "      <td>2239</td>\n",
       "      <td>\\nAs with its sherry wood-matured sibling, this 10 year old release comprises 9,000 bottles and was distilled using the same lightly peated malt and bottled without chill filtration. Lemongrass, a pinch of salt, wood smoke, and ginger snaps on the nose. Tropical fruits on the soft, slightly oily palate, with a slight underpinning of spicy smoke. Nutty, drying, with mellow spice in the finish.</td>\n",
       "    </tr>\n",
       "    <tr>\n",
       "      <th>975</th>\n",
       "      <td>2263</td>\n",
       "      <td>\\nA single cask, cask strength 16 year old malt from the demolished Willowbank distillery to celebrate the New Zealand All Blacks World Cup victory, and further evidence that New Zealand is back on track. This is whisky hitting its stride. Creamy and honeyed with a cracked lemon pepper undercoat, it's fresh, and very drinkable, with a delightful sugar and spice combo running through it. Oak only really makes an appearance in the finale. NZ$229</td>\n",
       "    </tr>\n",
       "    <tr>\n",
       "      <th>428</th>\n",
       "      <td>2151</td>\n",
       "      <td>\\nLight in color it may be, but this is no wimp. The nose goes straight to the shore with mineral and salt, but it’s also sweet, which allows it to be fresh, lively, yet balanced. The palate delivers some menthol, bay laurel, more brininess, a hint of malt, and Parma violet. Everything remains very breezy, with peat smoke being blown from a kiln into salt-laden air. I prefer it to the 12 year old and the price is fantastic.</td>\n",
       "    </tr>\n",
       "    <tr>\n",
       "      <th>142</th>\n",
       "      <td>3947</td>\n",
       "      <td>\\nDistilled in June 1994, this example of Deanston was aged for 20 years in a refill butt, which ultimately yielded 188 bottles. Quite shy on the nose, a hint of starch, gentle malt, and ginger. Shows its true colors on the palate: relatively full-bodied and sweet, with peaches and over-ripe apricots. Softly spiced. The finish is lengthy and sweet, with cocoa powder and sprightly oak. £87</td>\n",
       "    </tr>\n",
       "    <tr>\n",
       "      <th>943</th>\n",
       "      <td>1978</td>\n",
       "      <td>\\nThis rich, smooth, and enticing blend first launched in 1976. It offers aromas of barley, malt, honey, praline cookies, vanilla seed, and smoke. The palate is bright with honey, citrus zest, Quaker Oat Crisp, graham cracker, and vanilla fudge, with gentle pepper, hot cross bun, and orange notes appearing as it becomes creamier. Orange, barley notes, and smoke dance off into the finish.</td>\n",
       "    </tr>\n",
       "    <tr>\n",
       "      <th>180</th>\n",
       "      <td>1144</td>\n",
       "      <td>\\nAged slightly more than 9 years. (The annual single barrel releases jumped last year from approximately 10 years old to 9 years old, with both a 2005 and 2006 vintage released in the same year.) A mélange of fruit (apricot, candied citrus, pineapple, golden raisin) spiked with fresh mint and cinnamon on a bed of caramel and vanilla. In true form, this bourbon is flavorful and well-rounded.</td>\n",
       "    </tr>\n",
       "    <tr>\n",
       "      <th>377</th>\n",
       "      <td>454</td>\n",
       "      <td>\\nSome whiskeys have already peaked at a quarter-century, but this one, distilled in Indiana and finished in sercial madeira casks, is at its apex. Caramel-covered peanuts, candied orange, fresh-baked bread, Toblerone, cinnamon ginger snaps, blueberry cobbler, black tea, and plenty of oak on the nose. The palate is supple and elegant, with peanut brittle, cherry cordial, milk chocolate, blueberry, horehound candy, cola, white pepper, ginger, roasted pecans, and refined oak. Leave plenty of time to enjoy the finish, with its subtle white pepper and dark fruit undertones.</td>\n",
       "    </tr>\n",
       "    <tr>\n",
       "      <th>969</th>\n",
       "      <td>2712</td>\n",
       "      <td>\\nThis is the latest in an ongoing series of releases of whisky distilled at the Campbeltown distillery of Glengyle, and now aged 8 years. Just 9,000 bottles are available. The nose is full, with over-ripe oranges, warm honey, and custard. On the palate, the oranges are fresher and livelier, with vanilla, hard toffee, and a slightly citric fruit edge to balance the sweetness. That sweetness carries over into the spicy finish, which is quite lengthy, with a lick of licorice. £35</td>\n",
       "    </tr>\n",
       "    <tr>\n",
       "      <th>709</th>\n",
       "      <td>420</td>\n",
       "      <td>\\nDeep, mature in nature, and very complex. Notes of polished leather, maple syrup, and dark pit fruit, with suggestions of tobacco smoke, wood shavings, and unsweetened chocolate. References to fine old bourbon and ultra-matured pot-still rum provide intrigue. Proof that Japan produces some outstanding, distinctive whiskies. Nicely done! \\r\\n</td>\n",
       "    </tr>\n",
       "  </tbody>\n",
       "</table>\n",
       "</div>"
      ],
      "text/plain": [
       "        id  \\\n",
       "61    4151   \n",
       "617   2908   \n",
       "263   1673   \n",
       "314   1445   \n",
       "511   3329   \n",
       "936   2813   \n",
       "1006  4657   \n",
       "247   2251   \n",
       "363   1234   \n",
       "52    4808   \n",
       "693   1302   \n",
       "593   2239   \n",
       "975   2263   \n",
       "428   2151   \n",
       "142   3947   \n",
       "943   1978   \n",
       "180   1144   \n",
       "377   454    \n",
       "969   2712   \n",
       "709   420    \n",
       "\n",
       "                                                                                                                                                                                                                                                                                                                                                                                                                                                                                                                                                                                                                                                   description  \n",
       "61    \\nA marriage of whiskies from bourbon, sherry, and port casks, which does help give it some complexity. A bit fleshy on the nose (sooty peat, soy sauce, sherry, tannins). It calms down on the palate (and is soothed by the sherry notes), with some additional vanilla, bitter orange, and brine. More brine and warming pepper on the finish. There’s a lot going on here, which I like, but I’m not sure all the flavors dovetail with each other well enough to deserve a higher rating.                                                                                                                                                            \n",
       "617   \\nAn array of tropical fruit aromas—guava, papaya, green banana—mingle with incense, fresh herbs, and homemade cranberry sauce. The palate is light, silky, and flavorful: strawberry, pineapple, grapefruit soda, and milk chocolate, with a brief cigar-wrapper finish. A higher proof would go a long way to turn this whisky from merely pleasant to excellent. (Total Wine & More)                                                                                                                                                                                                                                                                   \n",
       "263   \\nAn inviting and complex nose of honey, orchard fruits, apple blossom, rosewater, and subtle cinnamon. Rich and creamy in the mouth, with initially intensely sweet fruit and spice notes, followed by ginger, toffee, and vanilla. The finish is warming, gently spicy, and medium in length. Diageo Special Releases 2016 bottling. (4,932 bottles)                                                                                                                                                                                                                                                                                                    \n",
       "314   \\nAmber. Very meaty, with a touch of cordite, then dark fruits, wet earth, and autumn woods, cut with spicy licorice and Darjeeling tea. Water brings down this exuberance, adding iris and whole grain bread. The palate has typical, full-on Mortlach brawny muscle, with chestnut honey-glazed venison. Water bringing out sweetness, but without ever losing that glowering core. Lovers of the old 16 year old apply here.                                                                                                                                                                                                                           \n",
       "511   \\nStarts off sweet, followed by nutmeg, cinnamon, clean oak, and a zesty bitterness. This austere yet elegant whisky slowly develops a deep complexity. Silky corn and bourbon-like vanilla toffee override distinct suggestions of apple juice, as dusty rye along with hints of dry grass lead into mashy cereal notes. Finishes with tightly integrated flavors of white pepper, gingery spices, hints of fresh-cut wood, and hot peppermint. Lovely. (Canada only) C$37                                                                                                                                                                               \n",
       "936   \\nThis was inspired by Stewart Laing’s childhood journeys by steam locomotive from Glasgow to Speyside with his father. Hunter Laing’s blended malt includes contributions from Blair Athol, Teaninich, and Clynelish and raises toffee sauce, dried banana chips, and spring foliage, with a fringe of fresh mint. You can appreciate the cool, clean taste; ripe banana and chocolate-dipped fudge blooming into late notes of mocha, ginger, and chocolate mousse. Dry finish of ginger cookies and espresso. All aboard! £40                                                                                                                          \n",
       "1006  \\nVery pale gold color. Aggressive notes of tar, boat docks, seaweed, and smoke are tamed by a mouth-coating honeyed vanilla sweetness. Very long, smoky, salty finish. This is a youthful, powerful, relentless whisky that you will either like or loathe.                                                                                                                                                                                                                                                                                                                                                                                              \n",
       "247   \\nThese days the mighty Mortlach is a known quantity, but Diageo’s two other meaty sites—Benrinnes and Dailuaine—remain in the shadows. This is big, boisterous, and sherried, but there’s less of the gravy-browning elements you get from the other two; at Dailuaine it is fruit that is promoted alongside Seville orange, treacle, and the inevitable raisin and date. There are nods to PX sherry as well. Every bit as good as Mortlach.  £43                                                                                                                                                                                                      \n",
       "363   \\nA polished whisky, light-medium in body with well-rounded flavors. Fruity (ripe orange, lemon gumdrops, candy apple), with creamy vanilla and a honeyed, toasted malt foundation. Soft, gentle oak throughout. What a lovely, gentle-natured whisky, straight down the middle! Bonus points for versatility.                                                                                                                                                                                                                                                                                                                                            \n",
       "52    \\nA single grain whisky made equally from wheat and barley to keep you amused until R&B Distillers builds their new distilleries. The first impression created by the oloroso cask finish is an abundance of fruit sugar sweetness; cherry, raspberry, plus freshly picked mint leaves. This is a bold, muscular, assertive grain, where the juicy fruit is soured by aniseed, licorice, and toasted walnut. Notes of dried apple accompany a hot, drying finish. Water straightens it all out though. £50                                                                                                                                                \n",
       "693   \\nA blend of two straight whiskeys: a very young 2 year old high rye content whiskey and a 16 year old rye whiskey with a lower rye content. Perhaps the spiciest American whiskey I have ever tasted, yet at the same time, quite tame and mellow. Complex notes of mint, clove, cinnamon, licorice root, pine nuts, and dark chocolate, with a surprising dose of gin botanicals throughout. A soft underbelly of caramel, sweet corn, and soothing vanilla provides an interesting counterpoint. Very easy-drinking, too (hard to believe it’s 46%). Intriguing, and a must-try for rye whiskey aficionados — even if only to satisfy your curiosity.  \n",
       "593   \\nAs with its sherry wood-matured sibling, this 10 year old release comprises 9,000 bottles and was distilled using the same lightly peated malt and bottled without chill filtration. Lemongrass, a pinch of salt, wood smoke, and ginger snaps on the nose. Tropical fruits on the soft, slightly oily palate, with a slight underpinning of spicy smoke. Nutty, drying, with mellow spice in the finish.                                                                                                                                                                                                                                               \n",
       "975   \\nA single cask, cask strength 16 year old malt from the demolished Willowbank distillery to celebrate the New Zealand All Blacks World Cup victory, and further evidence that New Zealand is back on track. This is whisky hitting its stride. Creamy and honeyed with a cracked lemon pepper undercoat, it's fresh, and very drinkable, with a delightful sugar and spice combo running through it. Oak only really makes an appearance in the finale. NZ$229                                                                                                                                                                                           \n",
       "428   \\nLight in color it may be, but this is no wimp. The nose goes straight to the shore with mineral and salt, but it’s also sweet, which allows it to be fresh, lively, yet balanced. The palate delivers some menthol, bay laurel, more brininess, a hint of malt, and Parma violet. Everything remains very breezy, with peat smoke being blown from a kiln into salt-laden air. I prefer it to the 12 year old and the price is fantastic.                                                                                                                                                                                                               \n",
       "142   \\nDistilled in June 1994, this example of Deanston was aged for 20 years in a refill butt, which ultimately yielded 188 bottles. Quite shy on the nose, a hint of starch, gentle malt, and ginger. Shows its true colors on the palate: relatively full-bodied and sweet, with peaches and over-ripe apricots. Softly spiced. The finish is lengthy and sweet, with cocoa powder and sprightly oak. £87                                                                                                                                                                                                                                                   \n",
       "943   \\nThis rich, smooth, and enticing blend first launched in 1976. It offers aromas of barley, malt, honey, praline cookies, vanilla seed, and smoke. The palate is bright with honey, citrus zest, Quaker Oat Crisp, graham cracker, and vanilla fudge, with gentle pepper, hot cross bun, and orange notes appearing as it becomes creamier. Orange, barley notes, and smoke dance off into the finish.                                                                                                                                                                                                                                                    \n",
       "180   \\nAged slightly more than 9 years. (The annual single barrel releases jumped last year from approximately 10 years old to 9 years old, with both a 2005 and 2006 vintage released in the same year.) A mélange of fruit (apricot, candied citrus, pineapple, golden raisin) spiked with fresh mint and cinnamon on a bed of caramel and vanilla. In true form, this bourbon is flavorful and well-rounded.                                                                                                                                                                                                                                                \n",
       "377   \\nSome whiskeys have already peaked at a quarter-century, but this one, distilled in Indiana and finished in sercial madeira casks, is at its apex. Caramel-covered peanuts, candied orange, fresh-baked bread, Toblerone, cinnamon ginger snaps, blueberry cobbler, black tea, and plenty of oak on the nose. The palate is supple and elegant, with peanut brittle, cherry cordial, milk chocolate, blueberry, horehound candy, cola, white pepper, ginger, roasted pecans, and refined oak. Leave plenty of time to enjoy the finish, with its subtle white pepper and dark fruit undertones.                                                          \n",
       "969   \\nThis is the latest in an ongoing series of releases of whisky distilled at the Campbeltown distillery of Glengyle, and now aged 8 years. Just 9,000 bottles are available. The nose is full, with over-ripe oranges, warm honey, and custard. On the palate, the oranges are fresher and livelier, with vanilla, hard toffee, and a slightly citric fruit edge to balance the sweetness. That sweetness carries over into the spicy finish, which is quite lengthy, with a lick of licorice. £35                                                                                                                                                        \n",
       "709   \\nDeep, mature in nature, and very complex. Notes of polished leather, maple syrup, and dark pit fruit, with suggestions of tobacco smoke, wood shavings, and unsweetened chocolate. References to fine old bourbon and ultra-matured pot-still rum provide intrigue. Proof that Japan produces some outstanding, distinctive whiskies. Nicely done! \\r\\n                                                                                                                                                                                                                                                                                                 "
      ]
     },
     "execution_count": 49,
     "metadata": {},
     "output_type": "execute_result"
    }
   ],
   "source": [
    "test.sample(20)"
   ]
  },
  {
   "cell_type": "code",
   "execution_count": 2,
   "metadata": {},
   "outputs": [
    {
     "data": {
      "text/html": [
       "<div>\n",
       "<style scoped>\n",
       "    .dataframe tbody tr th:only-of-type {\n",
       "        vertical-align: middle;\n",
       "    }\n",
       "\n",
       "    .dataframe tbody tr th {\n",
       "        vertical-align: top;\n",
       "    }\n",
       "\n",
       "    .dataframe thead th {\n",
       "        text-align: right;\n",
       "    }\n",
       "</style>\n",
       "<table border=\"1\" class=\"dataframe\">\n",
       "  <thead>\n",
       "    <tr style=\"text-align: right;\">\n",
       "      <th></th>\n",
       "      <th>id</th>\n",
       "      <th>description</th>\n",
       "      <th>ratingCategory</th>\n",
       "    </tr>\n",
       "  </thead>\n",
       "  <tbody>\n",
       "    <tr>\n",
       "      <th>0</th>\n",
       "      <td>1321</td>\n",
       "      <td>\\nSometimes, when whisky is batched, a few lef...</td>\n",
       "      <td>1</td>\n",
       "    </tr>\n",
       "    <tr>\n",
       "      <th>1</th>\n",
       "      <td>3861</td>\n",
       "      <td>\\nAn uncommon exclusive bottling of a 6 year o...</td>\n",
       "      <td>0</td>\n",
       "    </tr>\n",
       "    <tr>\n",
       "      <th>2</th>\n",
       "      <td>655</td>\n",
       "      <td>\\nThis release is a port version of Amrut’s In...</td>\n",
       "      <td>1</td>\n",
       "    </tr>\n",
       "    <tr>\n",
       "      <th>3</th>\n",
       "      <td>555</td>\n",
       "      <td>\\nThis 41 year old single cask was aged in a s...</td>\n",
       "      <td>1</td>\n",
       "    </tr>\n",
       "    <tr>\n",
       "      <th>4</th>\n",
       "      <td>1965</td>\n",
       "      <td>\\nQuite herbal on the nose, with aromas of dri...</td>\n",
       "      <td>1</td>\n",
       "    </tr>\n",
       "  </tbody>\n",
       "</table>\n",
       "</div>"
      ],
      "text/plain": [
       "     id                                        description  ratingCategory\n",
       "0  1321  \\nSometimes, when whisky is batched, a few lef...               1\n",
       "1  3861  \\nAn uncommon exclusive bottling of a 6 year o...               0\n",
       "2   655  \\nThis release is a port version of Amrut’s In...               1\n",
       "3   555  \\nThis 41 year old single cask was aged in a s...               1\n",
       "4  1965  \\nQuite herbal on the nose, with aromas of dri...               1"
      ]
     },
     "execution_count": 2,
     "metadata": {},
     "output_type": "execute_result"
    }
   ],
   "source": [
    "train.head()"
   ]
  },
  {
   "cell_type": "code",
   "execution_count": 3,
   "metadata": {},
   "outputs": [
    {
     "data": {
      "text/plain": [
       "1    2881\n",
       "0    1141\n",
       "2      65\n",
       "Name: ratingCategory, dtype: int64"
      ]
     },
     "execution_count": 3,
     "metadata": {},
     "output_type": "execute_result"
    }
   ],
   "source": [
    "# Distribution of ratingCategory: 0 (Excellent), 1 (Good), 2 (Poor)\n",
    "train.ratingCategory.value_counts()"
   ]
  },
  {
   "cell_type": "code",
   "execution_count": 4,
   "metadata": {},
   "outputs": [
    {
     "data": {
      "text/html": [
       "<div>\n",
       "<style scoped>\n",
       "    .dataframe tbody tr th:only-of-type {\n",
       "        vertical-align: middle;\n",
       "    }\n",
       "\n",
       "    .dataframe tbody tr th {\n",
       "        vertical-align: top;\n",
       "    }\n",
       "\n",
       "    .dataframe thead th {\n",
       "        text-align: right;\n",
       "    }\n",
       "</style>\n",
       "<table border=\"1\" class=\"dataframe\">\n",
       "  <thead>\n",
       "    <tr style=\"text-align: right;\">\n",
       "      <th></th>\n",
       "      <th>id</th>\n",
       "      <th>description</th>\n",
       "      <th>ratingCategory</th>\n",
       "    </tr>\n",
       "  </thead>\n",
       "  <tbody>\n",
       "    <tr>\n",
       "      <th>2921</th>\n",
       "      <td>4531</td>\n",
       "      <td>\\nAnother Travel Retail exclusive, and while you might expect something delicate given the age statement, what is delivered is a thick, buttery/creamy opening that, for a second, teeters on the brink of sourness then pulls back to be more like ricotta cheese. It then settles into vanilla, floral notes, white chocolate, and sweet barley. The palate is thick once again, with lemon cheesecake giving a needed clean acidity. Quite a bulky youngster that’s best with water. (Travel Retail exclusive) £45</td>\n",
       "      <td>0</td>\n",
       "    </tr>\n",
       "    <tr>\n",
       "      <th>2350</th>\n",
       "      <td>4970</td>\n",
       "      <td>\\nThe second of the duo — destined for the U.S. and Taiwan — is a relative youngster and has been extracted from a fresh Spanish oak sherry hogshead. The combination of first-fill and smaller cask size is immediately apparent. The color is mocha dark and the nose has a distinctly sulfurous twist, behind which are black cherries dipped in chocolate, tonka bean, and leather. For me, there’s too much cask and not sufficient Rothes complexities, especially on the palate.</td>\n",
       "      <td>0</td>\n",
       "    </tr>\n",
       "    <tr>\n",
       "      <th>3789</th>\n",
       "      <td>4742</td>\n",
       "      <td>\\nThe double maturation here is a vatting of bourbon and sherry casks finished off in what Diageo will only say is a “special” cask. That’s helpful. There’s a breakfast-style opening here of warm bagels with grape jelly, then comes citrus, before some of that dusky distillery character creeps in. It’s quite bulked-up in the center of the palate, but finishes cleanly. One for those who like things on the thick-set side. (Travel Retail exclusive)</td>\n",
       "      <td>0</td>\n",
       "    </tr>\n",
       "  </tbody>\n",
       "</table>\n",
       "</div>"
      ],
      "text/plain": [
       "        id  \\\n",
       "2921  4531   \n",
       "2350  4970   \n",
       "3789  4742   \n",
       "\n",
       "                                                                                                                                                                                                                                                                                                                                                                                                                                                                                                                description  \\\n",
       "2921  \\nAnother Travel Retail exclusive, and while you might expect something delicate given the age statement, what is delivered is a thick, buttery/creamy opening that, for a second, teeters on the brink of sourness then pulls back to be more like ricotta cheese. It then settles into vanilla, floral notes, white chocolate, and sweet barley. The palate is thick once again, with lemon cheesecake giving a needed clean acidity. Quite a bulky youngster that’s best with water. (Travel Retail exclusive) £45   \n",
       "2350  \\nThe second of the duo — destined for the U.S. and Taiwan — is a relative youngster and has been extracted from a fresh Spanish oak sherry hogshead. The combination of first-fill and smaller cask size is immediately apparent. The color is mocha dark and the nose has a distinctly sulfurous twist, behind which are black cherries dipped in chocolate, tonka bean, and leather. For me, there’s too much cask and not sufficient Rothes complexities, especially on the palate.                                 \n",
       "3789  \\nThe double maturation here is a vatting of bourbon and sherry casks finished off in what Diageo will only say is a “special” cask. That’s helpful. There’s a breakfast-style opening here of warm bagels with grape jelly, then comes citrus, before some of that dusky distillery character creeps in. It’s quite bulked-up in the center of the palate, but finishes cleanly. One for those who like things on the thick-set side. (Travel Retail exclusive)                                                        \n",
       "\n",
       "      ratingCategory  \n",
       "2921  0               \n",
       "2350  0               \n",
       "3789  0               "
      ]
     },
     "execution_count": 4,
     "metadata": {},
     "output_type": "execute_result"
    }
   ],
   "source": [
    "# Read a few reviews from the \"Excellent\" category\n",
    "pd.set_option('display.max_colwidth', 0)\n",
    "train[train.ratingCategory == 0].sample(3)"
   ]
  },
  {
   "cell_type": "code",
   "execution_count": 5,
   "metadata": {},
   "outputs": [
    {
     "data": {
      "text/html": [
       "<div>\n",
       "<style scoped>\n",
       "    .dataframe tbody tr th:only-of-type {\n",
       "        vertical-align: middle;\n",
       "    }\n",
       "\n",
       "    .dataframe tbody tr th {\n",
       "        vertical-align: top;\n",
       "    }\n",
       "\n",
       "    .dataframe thead th {\n",
       "        text-align: right;\n",
       "    }\n",
       "</style>\n",
       "<table border=\"1\" class=\"dataframe\">\n",
       "  <thead>\n",
       "    <tr style=\"text-align: right;\">\n",
       "      <th></th>\n",
       "      <th>id</th>\n",
       "      <th>description</th>\n",
       "      <th>ratingCategory</th>\n",
       "    </tr>\n",
       "  </thead>\n",
       "  <tbody>\n",
       "    <tr>\n",
       "      <th>2239</th>\n",
       "      <td>5036</td>\n",
       "      <td>\\nVery light in aroma and flavor. There are no off flavors. It’s just uninspiring. Delicate notes of vanilla custard, honey, caramel corn, sweet corn, and subtle fruit. Fleeting finish.</td>\n",
       "      <td>2</td>\n",
       "    </tr>\n",
       "    <tr>\n",
       "      <th>1794</th>\n",
       "      <td>5102</td>\n",
       "      <td>\\nDoes a nose of bright bubble gum and fresh-cut peppers touched by the fermented heat of Tabasco sound good? It comes bursting out of the glass with this one, busy and hot. The taste hits first with the bubble gum blast, sweet and light, even quickly pleasant until the pepper breaks in, twisting and warping this liqueur with a whirl of sweet, hot, bitter, vegetal flavors that turns to a sticky-sweet heat in the finish.   A regrettably bad idea.</td>\n",
       "      <td>2</td>\n",
       "    </tr>\n",
       "    <tr>\n",
       "      <th>1272</th>\n",
       "      <td>5100</td>\n",
       "      <td>\\nAll of the elements that work with Southern Shine’s Apple Pie bottling don’t work with their Blueberry. An extremely evasive nose leads to an artificially-flavored palate. Here the blueberry tastes more like flavored bubblegum than fruit. The white pepper from the base spirit clashes with the berry like a multi-car pileup. The finish is hot, too dry, and a little sour. There’s just nothing about this that’s pleasant or enjoyable.</td>\n",
       "      <td>2</td>\n",
       "    </tr>\n",
       "  </tbody>\n",
       "</table>\n",
       "</div>"
      ],
      "text/plain": [
       "        id  \\\n",
       "2239  5036   \n",
       "1794  5102   \n",
       "1272  5100   \n",
       "\n",
       "                                                                                                                                                                                                                                                                                                                                                                                                                                                            description  \\\n",
       "2239  \\nVery light in aroma and flavor. There are no off flavors. It’s just uninspiring. Delicate notes of vanilla custard, honey, caramel corn, sweet corn, and subtle fruit. Fleeting finish.                                                                                                                                                                                                                                                                           \n",
       "1794  \\nDoes a nose of bright bubble gum and fresh-cut peppers touched by the fermented heat of Tabasco sound good? It comes bursting out of the glass with this one, busy and hot. The taste hits first with the bubble gum blast, sweet and light, even quickly pleasant until the pepper breaks in, twisting and warping this liqueur with a whirl of sweet, hot, bitter, vegetal flavors that turns to a sticky-sweet heat in the finish.   A regrettably bad idea.   \n",
       "1272  \\nAll of the elements that work with Southern Shine’s Apple Pie bottling don’t work with their Blueberry. An extremely evasive nose leads to an artificially-flavored palate. Here the blueberry tastes more like flavored bubblegum than fruit. The white pepper from the base spirit clashes with the berry like a multi-car pileup. The finish is hot, too dry, and a little sour. There’s just nothing about this that’s pleasant or enjoyable.                 \n",
       "\n",
       "      ratingCategory  \n",
       "2239  2               \n",
       "1794  2               \n",
       "1272  2               "
      ]
     },
     "execution_count": 5,
     "metadata": {},
     "output_type": "execute_result"
    }
   ],
   "source": [
    "# Read a few reviews from the \"Poor\" category\n",
    "train[train.ratingCategory == 2].sample(3)"
   ]
  },
  {
   "cell_type": "markdown",
   "metadata": {},
   "source": [
    "### Split the Training Set into Train/Validation"
   ]
  },
  {
   "cell_type": "code",
   "execution_count": 6,
   "metadata": {},
   "outputs": [
    {
     "name": "stdout",
     "output_type": "stream",
     "text": [
      "(3269,) (818,) (3269,) (818,)\n"
     ]
    }
   ],
   "source": [
    "from sklearn.model_selection import train_test_split\n",
    "\n",
    "X_train, X_test, y_train, y_test = train_test_split(train['description'], \n",
    "                                                    train['ratingCategory'], \n",
    "                                                    test_size=0.2, \n",
    "                                                    stratify=train['ratingCategory'],\n",
    "                                                    random_state=42)\n",
    "\n",
    "print(X_train.shape, X_test.shape, y_train.shape, y_test.shape)"
   ]
  },
  {
   "cell_type": "code",
   "execution_count": 7,
   "metadata": {},
   "outputs": [
    {
     "data": {
      "text/plain": [
       "(3269,)"
      ]
     },
     "execution_count": 7,
     "metadata": {},
     "output_type": "execute_result"
    }
   ],
   "source": [
    "X_train.shape"
   ]
  },
  {
   "cell_type": "markdown",
   "metadata": {},
   "source": [
    "### Define Pipeline Components"
   ]
  },
  {
   "cell_type": "code",
   "execution_count": 8,
   "metadata": {},
   "outputs": [],
   "source": [
    "from sklearn.feature_extraction.text import TfidfVectorizer\n",
    "from sklearn.ensemble import RandomForestClassifier\n",
    "from sklearn.pipeline import Pipeline\n",
    "\n",
    "vect = TfidfVectorizer(stop_words='english', ngram_range=(1,2))\n",
    "clf = RandomForestClassifier()\n",
    "\n",
    "pipe = Pipeline([('vect', vect), ('clf', clf)])"
   ]
  },
  {
   "cell_type": "markdown",
   "metadata": {},
   "source": [
    "### Define Your Search Space\n",
    "You're looking for both the best hyperparameters of your vectorizer and your classification model. "
   ]
  },
  {
   "cell_type": "code",
   "execution_count": 9,
   "metadata": {},
   "outputs": [
    {
     "name": "stdout",
     "output_type": "stream",
     "text": [
      "Fitting 5 folds for each of 10 candidates, totalling 50 fits\n"
     ]
    },
    {
     "name": "stderr",
     "output_type": "stream",
     "text": [
      "[Parallel(n_jobs=4)]: Using backend LokyBackend with 4 concurrent workers.\n",
      "[Parallel(n_jobs=4)]: Done  42 tasks      | elapsed:   34.6s\n",
      "[Parallel(n_jobs=4)]: Done  50 out of  50 | elapsed:   48.4s finished\n"
     ]
    },
    {
     "data": {
      "text/plain": [
       "GridSearchCV(cv=5, error_score=nan,\n",
       "             estimator=Pipeline(memory=None,\n",
       "                                steps=[('vect',\n",
       "                                        TfidfVectorizer(analyzer='word',\n",
       "                                                        binary=False,\n",
       "                                                        decode_error='strict',\n",
       "                                                        dtype=<class 'numpy.float64'>,\n",
       "                                                        encoding='utf-8',\n",
       "                                                        input='content',\n",
       "                                                        lowercase=True,\n",
       "                                                        max_df=1.0,\n",
       "                                                        max_features=None,\n",
       "                                                        min_df=1,\n",
       "                                                        ngram_range=(1, 2),\n",
       "                                                        norm='l2',\n",
       "                                                        preprocessor=None,\n",
       "                                                        smooth_idf=True,\n",
       "                                                        stop_words='english',\n",
       "                                                        strip...\n",
       "                                                               min_samples_leaf=1,\n",
       "                                                               min_samples_split=2,\n",
       "                                                               min_weight_fraction_leaf=0.0,\n",
       "                                                               n_estimators=100,\n",
       "                                                               n_jobs=None,\n",
       "                                                               oob_score=False,\n",
       "                                                               random_state=None,\n",
       "                                                               verbose=0,\n",
       "                                                               warm_start=False))],\n",
       "                                verbose=False),\n",
       "             iid='deprecated', n_jobs=4,\n",
       "             param_grid={'clf__max_depth': (5, 10, 15, 20, None),\n",
       "                         'vect__max_df': (0.75, 1.0)},\n",
       "             pre_dispatch='2*n_jobs', refit=True, return_train_score=False,\n",
       "             scoring=None, verbose=1)"
      ]
     },
     "execution_count": 9,
     "metadata": {},
     "output_type": "execute_result"
    }
   ],
   "source": [
    "from sklearn.model_selection import GridSearchCV\n",
    "\n",
    "parameters = {\n",
    "    'vect__max_df': (0.75, 1.0),\n",
    "    'clf__max_depth':(5,10,15,20,None)\n",
    "}\n",
    "\n",
    "grid_search = GridSearchCV(pipe, parameters, cv=5, n_jobs=4, verbose=1)\n",
    "grid_search.fit(X_train, y_train)"
   ]
  },
  {
   "cell_type": "markdown",
   "metadata": {},
   "source": [
    "### Make a Submission File\n",
    "*Note:* In a typical Kaggle competition, you are only allowed two submissions a day, so you only submit if you feel you cannot achieve higher test accuracy. For this competition the max daily submissions are capped at **20**. Submit for each demo and for your assignment. "
   ]
  },
  {
   "cell_type": "code",
   "execution_count": 10,
   "metadata": {},
   "outputs": [],
   "source": [
    "# Predictions on test sample\n",
    "pred = grid_search.predict(test['description'])"
   ]
  },
  {
   "cell_type": "code",
   "execution_count": 11,
   "metadata": {},
   "outputs": [],
   "source": [
    "submission = pd.DataFrame({'id': test['id'], 'ratingCategory':pred})\n",
    "submission['ratingCategory'] = submission['ratingCategory'].astype('int64')"
   ]
  },
  {
   "cell_type": "code",
   "execution_count": 12,
   "metadata": {},
   "outputs": [
    {
     "data": {
      "text/html": [
       "<div>\n",
       "<style scoped>\n",
       "    .dataframe tbody tr th:only-of-type {\n",
       "        vertical-align: middle;\n",
       "    }\n",
       "\n",
       "    .dataframe tbody tr th {\n",
       "        vertical-align: top;\n",
       "    }\n",
       "\n",
       "    .dataframe thead th {\n",
       "        text-align: right;\n",
       "    }\n",
       "</style>\n",
       "<table border=\"1\" class=\"dataframe\">\n",
       "  <thead>\n",
       "    <tr style=\"text-align: right;\">\n",
       "      <th></th>\n",
       "      <th>id</th>\n",
       "      <th>ratingCategory</th>\n",
       "    </tr>\n",
       "  </thead>\n",
       "  <tbody>\n",
       "    <tr>\n",
       "      <th>0</th>\n",
       "      <td>3461</td>\n",
       "      <td>1</td>\n",
       "    </tr>\n",
       "    <tr>\n",
       "      <th>1</th>\n",
       "      <td>2604</td>\n",
       "      <td>1</td>\n",
       "    </tr>\n",
       "    <tr>\n",
       "      <th>2</th>\n",
       "      <td>3341</td>\n",
       "      <td>1</td>\n",
       "    </tr>\n",
       "    <tr>\n",
       "      <th>3</th>\n",
       "      <td>3764</td>\n",
       "      <td>1</td>\n",
       "    </tr>\n",
       "    <tr>\n",
       "      <th>4</th>\n",
       "      <td>2306</td>\n",
       "      <td>1</td>\n",
       "    </tr>\n",
       "  </tbody>\n",
       "</table>\n",
       "</div>"
      ],
      "text/plain": [
       "     id  ratingCategory\n",
       "0  3461  1             \n",
       "1  2604  1             \n",
       "2  3341  1             \n",
       "3  3764  1             \n",
       "4  2306  1             "
      ]
     },
     "execution_count": 12,
     "metadata": {},
     "output_type": "execute_result"
    }
   ],
   "source": [
    "# Make Sure the Category is an Integer\n",
    "submission.head()"
   ]
  },
  {
   "cell_type": "code",
   "execution_count": 13,
   "metadata": {},
   "outputs": [],
   "source": [
    "subNumber = 2"
   ]
  },
  {
   "cell_type": "code",
   "execution_count": 14,
   "metadata": {},
   "outputs": [],
   "source": [
    "# Save your Submission File\n",
    "# Best to Use an Integer or Timestamp for different versions of your model\n",
    "\n",
    "submission.to_csv(f'./whiskey-reviews-dspt4/submission{subNumber}.csv', index=False)\n",
    "subNumber += 1"
   ]
  },
  {
   "cell_type": "markdown",
   "metadata": {},
   "source": [
    "## Challenge\n",
    "\n",
    "You're trying to achieve a minimum of 70% Accuracy on your model."
   ]
  },
  {
   "cell_type": "markdown",
   "metadata": {},
   "source": [
    "## Latent Semantic Indexing (Learn)\n",
    "<a id=\"p2\"></a>"
   ]
  },
  {
   "cell_type": "markdown",
   "metadata": {
    "toc-hr-collapsed": true
   },
   "source": [
    "## Follow Along\n",
    "1. Join the Kaggle Competition\n",
    "2. Download the data\n",
    "3. Train a model & try: \n",
    "    - Creating a Text Extraction & Classification Pipeline\n",
    "    - Tune the pipeline with a `GridSearchCV` or `RandomizedSearchCV`\n",
    "    - Add some Latent Semantic Indexing (lsi) into your pipeline. *Note:* You can grid search a nested pipeline, but you have to use double underscores ie `lsi__svd__n_components`\n",
    "4. Make a submission to Kaggle \n"
   ]
  },
  {
   "cell_type": "code",
   "execution_count": 15,
   "metadata": {},
   "outputs": [],
   "source": [
    "import scipy.stats as stats\n",
    "from sklearn.decomposition import TruncatedSVD"
   ]
  },
  {
   "cell_type": "markdown",
   "metadata": {},
   "source": [
    "### Define Pipeline Components"
   ]
  },
  {
   "cell_type": "code",
   "execution_count": 16,
   "metadata": {},
   "outputs": [],
   "source": [
    "# Configure a latent semantic indexing pipeline step\n",
    "lsi = TruncatedSVD(algorithm='randomized', n_iter=10)\n",
    "\n",
    "# Configure TFID vectorizing pipeline step\n",
    "vect = TfidfVectorizer(stop_words='english', \n",
    "                       ngram_range=(1,2),\n",
    "                       min_df=2, \n",
    "                       max_df=0.7,\n",
    "                       max_features=10000)\n",
    "\n",
    "clf = RandomForestClassifier(n_estimators=500, \n",
    "                             random_state=42)\n",
    "\n",
    "pipe = Pipeline([\n",
    "    ('vect', vect),\n",
    "    ('lsi', lsi), \n",
    "    ('clf', clf)])"
   ]
  },
  {
   "cell_type": "markdown",
   "metadata": {},
   "source": [
    "### Define Your Search Space\n",
    "You're looking for both the best hyperparameters of your vectorizer and your classification model. "
   ]
  },
  {
   "cell_type": "code",
   "execution_count": 17,
   "metadata": {},
   "outputs": [
    {
     "name": "stdout",
     "output_type": "stream",
     "text": [
      "Fitting 5 folds for each of 24 candidates, totalling 120 fits\n"
     ]
    },
    {
     "name": "stderr",
     "output_type": "stream",
     "text": [
      "[Parallel(n_jobs=4)]: Using backend LokyBackend with 4 concurrent workers.\n",
      "[Parallel(n_jobs=4)]: Done  42 tasks      | elapsed:  2.6min\n",
      "[Parallel(n_jobs=4)]: Done 120 out of 120 | elapsed: 12.5min finished\n"
     ]
    },
    {
     "data": {
      "text/plain": [
       "GridSearchCV(cv=5, error_score=nan,\n",
       "             estimator=Pipeline(memory=None,\n",
       "                                steps=[('vect',\n",
       "                                        TfidfVectorizer(analyzer='word',\n",
       "                                                        binary=False,\n",
       "                                                        decode_error='strict',\n",
       "                                                        dtype=<class 'numpy.float64'>,\n",
       "                                                        encoding='utf-8',\n",
       "                                                        input='content',\n",
       "                                                        lowercase=True,\n",
       "                                                        max_df=0.7,\n",
       "                                                        max_features=10000,\n",
       "                                                        min_df=2,\n",
       "                                                        ngram_range=(1, 2),\n",
       "                                                        norm='l2',\n",
       "                                                        preprocessor=None,\n",
       "                                                        smooth_idf=True,\n",
       "                                                        stop_words='english',\n",
       "                                                        stri...\n",
       "                                                               min_samples_split=2,\n",
       "                                                               min_weight_fraction_leaf=0.0,\n",
       "                                                               n_estimators=500,\n",
       "                                                               n_jobs=None,\n",
       "                                                               oob_score=False,\n",
       "                                                               random_state=42,\n",
       "                                                               verbose=0,\n",
       "                                                               warm_start=False))],\n",
       "                                verbose=False),\n",
       "             iid='deprecated', n_jobs=4,\n",
       "             param_grid={'clf__max_depth': (5, 10, 15, 20),\n",
       "                         'lsi__n_components': [10, 100, 250],\n",
       "                         'vect__max_df': (0.75, 1.0)},\n",
       "             pre_dispatch='2*n_jobs', refit=True, return_train_score=False,\n",
       "             scoring=None, verbose=1)"
      ]
     },
     "execution_count": 17,
     "metadata": {},
     "output_type": "execute_result"
    }
   ],
   "source": [
    "parameters = {\n",
    "    'lsi__n_components': [10,100,250],\n",
    "    'vect__max_df': (0.75, 1.0),\n",
    "    'clf__max_depth':(5,10,15,20)\n",
    "}\n",
    "\n",
    "grid_search = GridSearchCV(pipe,parameters, cv=5, n_jobs=4, verbose=1)\n",
    "grid_search.fit(X_train, y_train)"
   ]
  },
  {
   "cell_type": "markdown",
   "metadata": {},
   "source": [
    "### Make a Submission File"
   ]
  },
  {
   "cell_type": "code",
   "execution_count": 18,
   "metadata": {},
   "outputs": [
    {
     "data": {
      "text/plain": [
       "1022"
      ]
     },
     "execution_count": 18,
     "metadata": {},
     "output_type": "execute_result"
    }
   ],
   "source": [
    "len(test['description'])"
   ]
  },
  {
   "cell_type": "code",
   "execution_count": 19,
   "metadata": {},
   "outputs": [],
   "source": [
    "# Predictions on test sample\n",
    "pred = grid_search.predict(test['description'])"
   ]
  },
  {
   "cell_type": "code",
   "execution_count": 20,
   "metadata": {},
   "outputs": [
    {
     "data": {
      "text/plain": [
       "1022"
      ]
     },
     "execution_count": 20,
     "metadata": {},
     "output_type": "execute_result"
    }
   ],
   "source": [
    "len(pred)"
   ]
  },
  {
   "cell_type": "code",
   "execution_count": 21,
   "metadata": {},
   "outputs": [],
   "source": [
    "submission = pd.DataFrame({'id': test['id'], 'ratingCategory':pred})\n",
    "submission['ratingCategory'] = submission['ratingCategory'].astype('int64')"
   ]
  },
  {
   "cell_type": "code",
   "execution_count": 24,
   "metadata": {},
   "outputs": [
    {
     "data": {
      "text/html": [
       "<div>\n",
       "<style scoped>\n",
       "    .dataframe tbody tr th:only-of-type {\n",
       "        vertical-align: middle;\n",
       "    }\n",
       "\n",
       "    .dataframe tbody tr th {\n",
       "        vertical-align: top;\n",
       "    }\n",
       "\n",
       "    .dataframe thead th {\n",
       "        text-align: right;\n",
       "    }\n",
       "</style>\n",
       "<table border=\"1\" class=\"dataframe\">\n",
       "  <thead>\n",
       "    <tr style=\"text-align: right;\">\n",
       "      <th></th>\n",
       "      <th>id</th>\n",
       "      <th>ratingCategory</th>\n",
       "    </tr>\n",
       "  </thead>\n",
       "  <tbody>\n",
       "    <tr>\n",
       "      <th>count</th>\n",
       "      <td>1022.000000</td>\n",
       "      <td>1022.000000</td>\n",
       "    </tr>\n",
       "    <tr>\n",
       "      <th>mean</th>\n",
       "      <td>2623.544031</td>\n",
       "      <td>0.882583</td>\n",
       "    </tr>\n",
       "    <tr>\n",
       "      <th>std</th>\n",
       "      <td>1450.076155</td>\n",
       "      <td>0.322074</td>\n",
       "    </tr>\n",
       "    <tr>\n",
       "      <th>min</th>\n",
       "      <td>6.000000</td>\n",
       "      <td>0.000000</td>\n",
       "    </tr>\n",
       "    <tr>\n",
       "      <th>25%</th>\n",
       "      <td>1379.500000</td>\n",
       "      <td>1.000000</td>\n",
       "    </tr>\n",
       "    <tr>\n",
       "      <th>50%</th>\n",
       "      <td>2646.500000</td>\n",
       "      <td>1.000000</td>\n",
       "    </tr>\n",
       "    <tr>\n",
       "      <th>75%</th>\n",
       "      <td>3905.750000</td>\n",
       "      <td>1.000000</td>\n",
       "    </tr>\n",
       "    <tr>\n",
       "      <th>max</th>\n",
       "      <td>5106.000000</td>\n",
       "      <td>1.000000</td>\n",
       "    </tr>\n",
       "  </tbody>\n",
       "</table>\n",
       "</div>"
      ],
      "text/plain": [
       "                id  ratingCategory\n",
       "count  1022.000000  1022.000000   \n",
       "mean   2623.544031  0.882583      \n",
       "std    1450.076155  0.322074      \n",
       "min    6.000000     0.000000      \n",
       "25%    1379.500000  1.000000      \n",
       "50%    2646.500000  1.000000      \n",
       "75%    3905.750000  1.000000      \n",
       "max    5106.000000  1.000000      "
      ]
     },
     "execution_count": 24,
     "metadata": {},
     "output_type": "execute_result"
    }
   ],
   "source": [
    "# Make Sure the Category is an Integer\n",
    "submission.describe()"
   ]
  },
  {
   "cell_type": "code",
   "execution_count": 26,
   "metadata": {},
   "outputs": [],
   "source": [
    "subNumber = 2"
   ]
  },
  {
   "cell_type": "code",
   "execution_count": 69,
   "metadata": {},
   "outputs": [],
   "source": [
    "# Save your Submission File\n",
    "# Best to Use an Integer or Timestamp for different versions of your model\n",
    "\n",
    "submission.to_csv(f'./whiskey-reviews-dspt4/submission{subNumber}.csv', index=False)\n",
    "subNumber += 1"
   ]
  },
  {
   "cell_type": "markdown",
   "metadata": {},
   "source": [
    "## Challenge\n",
    "\n",
    "Continue to apply Latent Semantic Indexing (LSI) to various datasets. "
   ]
  },
  {
   "cell_type": "markdown",
   "metadata": {},
   "source": [
    "# Word Embeddings with Spacy (Learn)\n",
    "<a id=\"p3\"></a>"
   ]
  },
  {
   "cell_type": "markdown",
   "metadata": {},
   "source": [
    "## Follow Along"
   ]
  },
  {
   "cell_type": "code",
   "execution_count": 27,
   "metadata": {},
   "outputs": [],
   "source": [
    "# Apply to your Dataset\n",
    "from sklearn.model_selection import RandomizedSearchCV\n",
    "from sklearn.ensemble import GradientBoostingClassifier\n",
    "from scipy.stats import randint\n",
    "\n",
    "param_dist = {\n",
    "    'max_depth' : randint(3,10),\n",
    "    'min_samples_leaf': randint(2,15)\n",
    "}"
   ]
  },
  {
   "cell_type": "code",
   "execution_count": 28,
   "metadata": {},
   "outputs": [],
   "source": [
    "# Import spacy modules\n",
    "import spacy\n",
    "nlp = spacy.load(\"en_core_web_lg\")"
   ]
  },
  {
   "cell_type": "code",
   "execution_count": 29,
   "metadata": {},
   "outputs": [],
   "source": [
    "# gen_word_vectors generates word vectors for the passed document\n",
    "def gen_word_vectors(docs):\n",
    "    return [nlp(doc).vector for doc in docs]"
   ]
  },
  {
   "cell_type": "code",
   "execution_count": 30,
   "metadata": {},
   "outputs": [],
   "source": [
    "# Generate word vectors for the training dataset\n",
    "V = gen_word_vectors(X_train)"
   ]
  },
  {
   "cell_type": "code",
   "execution_count": 36,
   "metadata": {},
   "outputs": [
    {
     "data": {
      "text/plain": [
       "3269"
      ]
     },
     "execution_count": 36,
     "metadata": {},
     "output_type": "execute_result"
    }
   ],
   "source": [
    "len(y_train)"
   ]
  },
  {
   "cell_type": "code",
   "execution_count": 34,
   "metadata": {},
   "outputs": [
    {
     "name": "stdout",
     "output_type": "stream",
     "text": [
      "Does the word vector and training series have the same length? True\n"
     ]
    }
   ],
   "source": [
    "print(f'Does the word vector and training series have the same length? {len(V) == len(X_train)}')"
   ]
  },
  {
   "cell_type": "code",
   "execution_count": 35,
   "metadata": {},
   "outputs": [
    {
     "data": {
      "text/plain": [
       "'\\nSometimes, when whisky is batched, a few leftover barrels are returned to the warehouse. Canadian Club recently pulled and vatted several of these from the 1970s. Acetone, Granny Smith apples, and fresh-cut white cedar showcase this long age. Complex and spicy, yet reserved, this dram is ripe with strawberries, canned pears, cloves, pepper, and faint flowers, then slightly pulling oak tannins. Distinct, elegant, and remarkably vibrant, this ancient Canadian Club is anything but tired. (Australia only)\\xa0A$133'"
      ]
     },
     "execution_count": 35,
     "metadata": {},
     "output_type": "execute_result"
    }
   ],
   "source": [
    "X_train[0]"
   ]
  },
  {
   "cell_type": "code",
   "execution_count": 37,
   "metadata": {},
   "outputs": [
    {
     "data": {
      "text/plain": [
       "RandomForestClassifier(bootstrap=True, ccp_alpha=0.0, class_weight=None,\n",
       "                       criterion='gini', max_depth=None, max_features='auto',\n",
       "                       max_leaf_nodes=None, max_samples=None,\n",
       "                       min_impurity_decrease=0.0, min_impurity_split=None,\n",
       "                       min_samples_leaf=1, min_samples_split=2,\n",
       "                       min_weight_fraction_leaf=0.0, n_estimators=500,\n",
       "                       n_jobs=None, oob_score=False, random_state=42, verbose=0,\n",
       "                       warm_start=False)"
      ]
     },
     "execution_count": 37,
     "metadata": {},
     "output_type": "execute_result"
    }
   ],
   "source": [
    "# Create a Random Forest Classifier model object\n",
    "rfc = RandomForestClassifier(n_estimators=500, \n",
    "                             random_state=42)\n",
    "\n",
    "rfc"
   ]
  },
  {
   "cell_type": "code",
   "execution_count": 38,
   "metadata": {},
   "outputs": [
    {
     "data": {
      "text/plain": [
       "RandomForestClassifier(bootstrap=True, ccp_alpha=0.0, class_weight=None,\n",
       "                       criterion='gini', max_depth=None, max_features='auto',\n",
       "                       max_leaf_nodes=None, max_samples=None,\n",
       "                       min_impurity_decrease=0.0, min_impurity_split=None,\n",
       "                       min_samples_leaf=1, min_samples_split=2,\n",
       "                       min_weight_fraction_leaf=0.0, n_estimators=500,\n",
       "                       n_jobs=None, oob_score=False, random_state=42, verbose=0,\n",
       "                       warm_start=False)"
      ]
     },
     "execution_count": 38,
     "metadata": {},
     "output_type": "execute_result"
    }
   ],
   "source": [
    "# Fit the training documents to the random classifier\n",
    "rfc.fit(V, y_train)"
   ]
  },
  {
   "cell_type": "code",
   "execution_count": 53,
   "metadata": {},
   "outputs": [],
   "source": [
    "# Predict test dataset values\n",
    "W = gen_word_vectors(X_test)"
   ]
  },
  {
   "cell_type": "code",
   "execution_count": 54,
   "metadata": {},
   "outputs": [
    {
     "name": "stdout",
     "output_type": "stream",
     "text": [
      "Is the length of the word vector the same as the test dataset? True\n"
     ]
    }
   ],
   "source": [
    "print(f'Is the length of the word vector the same as the test dataset? {len(W) == len(X_test)}')"
   ]
  },
  {
   "cell_type": "code",
   "execution_count": 56,
   "metadata": {},
   "outputs": [],
   "source": [
    "prd = rfc.predict(W)"
   ]
  },
  {
   "cell_type": "code",
   "execution_count": 58,
   "metadata": {},
   "outputs": [
    {
     "data": {
      "text/plain": [
       "0.7420537897310513"
      ]
     },
     "execution_count": 58,
     "metadata": {},
     "output_type": "execute_result"
    }
   ],
   "source": [
    "from sklearn.metrics import accuracy_score\n",
    "\n",
    "accuracy_score(y_test, prd)"
   ]
  },
  {
   "cell_type": "markdown",
   "metadata": {},
   "source": [
    "### Make a Submission File"
   ]
  },
  {
   "cell_type": "code",
   "execution_count": 59,
   "metadata": {},
   "outputs": [],
   "source": [
    "submission = pd.DataFrame({'id': test['id'], 'ratingCategory':prd})\n",
    "submission['ratingCategory'] = submission['ratingCategory'].astype('int64')"
   ]
  },
  {
   "cell_type": "code",
   "execution_count": null,
   "metadata": {},
   "outputs": [],
   "source": [
    "# Make Sure the Category is an Integer\n",
    "submission.head()"
   ]
  },
  {
   "cell_type": "code",
   "execution_count": null,
   "metadata": {},
   "outputs": [],
   "source": [
    "# Save your Submission File\n",
    "# Best to Use an Integer or Timestamp for different versions of your model\n",
    "submission.to_csv(f'./whiskey-reviews-dspt4/submission{subNumber}.csv', index=False)\n",
    "subNumber += 1"
   ]
  },
  {
   "cell_type": "markdown",
   "metadata": {},
   "source": [
    "## Challenge\n",
    "\n",
    "What you should be doing now:\n",
    "1. Join the Kaggle Competition\n",
    "2. Download the data\n",
    "3. Train a model & try: \n",
    "    - Creating a Text Extraction & Classification Pipeline\n",
    "    - Tune the pipeline with a `GridSearchCV` or `RandomizedSearchCV`\n",
    "    - Add some Latent Semantic Indexing (lsi) into your pipeline. *Note:* You can grid search a nested pipeline, but you have to use double underscores ie `lsi__svd__n_components`\n",
    "    - Try to extract word embeddings with Spacy and use those embeddings as your features for a classification model.\n",
    "4. Make a submission to Kaggle "
   ]
  },
  {
   "cell_type": "markdown",
   "metadata": {},
   "source": [
    "# Post Lecture Assignment\n",
    "<a id=\"p4\"></a>\n",
    "\n",
    "Your primary assignment this afternoon is to achieve a minimum of 70% accuracy on the Kaggle competition. Once you have achieved 70% accuracy, please work on the following: \n",
    "\n",
    "1. Research \"Sentiment Analysis\". Provide answers in markdown to the following questions: \n",
    "    - What is \"Sentiment Analysis\"? \n",
    "    - Is Document Classification different than \"Sentiment Analysis\"? Provide evidence for your response\n",
    "    - How do create labeled sentiment data? Are those labels really sentiment?\n",
    "    - What are common applications of sentiment analysis?\n",
    "2. Research our why word embeddings worked better for the lecture notebook than on the whiskey competition.\n",
    "    - This [text classification documentation](https://developers.google.com/machine-learning/guides/text-classification/step-2-5) from Google might be of interest\n",
    "    - Neural Networks are becoming more popular for document classification. Why is that the case?"
   ]
  }
 ],
 "metadata": {
  "kernelspec": {
   "display_name": "U4-S1-NLP (Python3)",
   "language": "python",
   "name": "u4-s1-nlp"
  },
  "language_info": {
   "codemirror_mode": {
    "name": "ipython",
    "version": 3
   },
   "file_extension": ".py",
   "mimetype": "text/x-python",
   "name": "python",
   "nbconvert_exporter": "python",
   "pygments_lexer": "ipython3",
   "version": "3.7.0"
  }
 },
 "nbformat": 4,
 "nbformat_minor": 4
}
