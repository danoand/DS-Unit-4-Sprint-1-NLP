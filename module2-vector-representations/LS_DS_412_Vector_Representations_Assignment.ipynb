{
 "cells": [
  {
   "cell_type": "markdown",
   "metadata": {},
   "source": [
    "<img align=\"left\" src=\"https://lever-client-logos.s3.amazonaws.com/864372b1-534c-480e-acd5-9711f850815c-1524247202159.png\" width=200>\n",
    "<br></br>\n",
    "\n",
    "# Vector Representations\n",
    "## *Data Science Unit 4 Sprint 2 Assignment 2*"
   ]
  },
  {
   "cell_type": "code",
   "execution_count": 112,
   "metadata": {
    "colab": {
     "base_uri": "https://localhost:8080/",
     "height": 159
    },
    "colab_type": "code",
    "id": "hyj-f9FDcVFp",
    "outputId": "5dd045fe-6e4c-458c-e2fc-253c3da9c805"
   },
   "outputs": [],
   "source": [
    "import re\n",
    "import string\n",
    "\n",
    "from sklearn.feature_extraction.text import CountVectorizer, TfidfVectorizer\n",
    "import matplotlib.pyplot as plt\n",
    "import pandas as pd\n",
    "import numpy as np\n",
    "import spacy\n",
    "\n",
    "from bs4 import BeautifulSoup"
   ]
  },
  {
   "cell_type": "markdown",
   "metadata": {
    "colab_type": "text",
    "id": "M7bcmqfGXrFG"
   },
   "source": [
    "## 1) *Clean:* Job Listings from indeed.com that contain the title \"Data Scientist\" \n",
    "\n",
    "You have `job_listings.csv` in the data folder for this module. The text data in the description column is still messy - full of html tags. Use the [BeautifulSoup](https://www.crummy.com/software/BeautifulSoup/bs4/doc/) library to clean up this column. You will need to read through the documentation to accomplish this task. "
   ]
  },
  {
   "cell_type": "code",
   "execution_count": 113,
   "metadata": {
    "colab": {},
    "colab_type": "code",
    "id": "KcYlc1URXhlC"
   },
   "outputs": [],
   "source": [
    "from bs4 import BeautifulSoup\n",
    "import requests\n",
    "\n",
    "# Read job listings into a dataframe\n",
    "df_job_lstgs = pd.read_csv(\"data/job_listings.csv\")"
   ]
  },
  {
   "cell_type": "code",
   "execution_count": 114,
   "metadata": {},
   "outputs": [
    {
     "data": {
      "text/html": [
       "<div>\n",
       "<style scoped>\n",
       "    .dataframe tbody tr th:only-of-type {\n",
       "        vertical-align: middle;\n",
       "    }\n",
       "\n",
       "    .dataframe tbody tr th {\n",
       "        vertical-align: top;\n",
       "    }\n",
       "\n",
       "    .dataframe thead th {\n",
       "        text-align: right;\n",
       "    }\n",
       "</style>\n",
       "<table border=\"1\" class=\"dataframe\">\n",
       "  <thead>\n",
       "    <tr style=\"text-align: right;\">\n",
       "      <th></th>\n",
       "      <th>description</th>\n",
       "      <th>title</th>\n",
       "    </tr>\n",
       "  </thead>\n",
       "  <tbody>\n",
       "    <tr>\n",
       "      <th>0</th>\n",
       "      <td>b\"&lt;div&gt;&lt;div&gt;Job Requirements:&lt;/div&gt;&lt;ul&gt;&lt;li&gt;&lt;p&gt;...</td>\n",
       "      <td>Data scientist</td>\n",
       "    </tr>\n",
       "    <tr>\n",
       "      <th>1</th>\n",
       "      <td>b'&lt;div&gt;Job Description&lt;br/&gt;\\n&lt;br/&gt;\\n&lt;p&gt;As a Da...</td>\n",
       "      <td>Data Scientist I</td>\n",
       "    </tr>\n",
       "    <tr>\n",
       "      <th>2</th>\n",
       "      <td>b'&lt;div&gt;&lt;p&gt;As a Data Scientist you will be work...</td>\n",
       "      <td>Data Scientist - Entry Level</td>\n",
       "    </tr>\n",
       "    <tr>\n",
       "      <th>3</th>\n",
       "      <td>b'&lt;div class=\"jobsearch-JobMetadataHeader icl-...</td>\n",
       "      <td>Data Scientist</td>\n",
       "    </tr>\n",
       "    <tr>\n",
       "      <th>4</th>\n",
       "      <td>b'&lt;ul&gt;&lt;li&gt;Location: USA \\xe2\\x80\\x93 multiple ...</td>\n",
       "      <td>Data Scientist</td>\n",
       "    </tr>\n",
       "    <tr>\n",
       "      <th>...</th>\n",
       "      <td>...</td>\n",
       "      <td>...</td>\n",
       "    </tr>\n",
       "    <tr>\n",
       "      <th>421</th>\n",
       "      <td>b\"&lt;b&gt;About Us:&lt;/b&gt;&lt;br/&gt;\\nWant to be part of a ...</td>\n",
       "      <td>Senior Data Science Engineer</td>\n",
       "    </tr>\n",
       "    <tr>\n",
       "      <th>422</th>\n",
       "      <td>b'&lt;div class=\"jobsearch-JobMetadataHeader icl-...</td>\n",
       "      <td>2019 PhD Data Scientist Internship - Forecasti...</td>\n",
       "    </tr>\n",
       "    <tr>\n",
       "      <th>423</th>\n",
       "      <td>b'&lt;div class=\"jobsearch-JobMetadataHeader icl-...</td>\n",
       "      <td>Data Scientist - Insurance</td>\n",
       "    </tr>\n",
       "    <tr>\n",
       "      <th>424</th>\n",
       "      <td>b\"&lt;p&gt;&lt;/p&gt;&lt;div&gt;&lt;p&gt;SENIOR DATA SCIENTIST&lt;/p&gt;&lt;p&gt;\\...</td>\n",
       "      <td>Senior Data Scientist</td>\n",
       "    </tr>\n",
       "    <tr>\n",
       "      <th>425</th>\n",
       "      <td>b'&lt;div&gt;&lt;/div&gt;&lt;div&gt;&lt;div&gt;&lt;div&gt;&lt;div&gt;&lt;p&gt;Cerner Int...</td>\n",
       "      <td>Data Scientist</td>\n",
       "    </tr>\n",
       "  </tbody>\n",
       "</table>\n",
       "<p>426 rows × 2 columns</p>\n",
       "</div>"
      ],
      "text/plain": [
       "                                           description  \\\n",
       "0    b\"<div><div>Job Requirements:</div><ul><li><p>...   \n",
       "1    b'<div>Job Description<br/>\\n<br/>\\n<p>As a Da...   \n",
       "2    b'<div><p>As a Data Scientist you will be work...   \n",
       "3    b'<div class=\"jobsearch-JobMetadataHeader icl-...   \n",
       "4    b'<ul><li>Location: USA \\xe2\\x80\\x93 multiple ...   \n",
       "..                                                 ...   \n",
       "421  b\"<b>About Us:</b><br/>\\nWant to be part of a ...   \n",
       "422  b'<div class=\"jobsearch-JobMetadataHeader icl-...   \n",
       "423  b'<div class=\"jobsearch-JobMetadataHeader icl-...   \n",
       "424  b\"<p></p><div><p>SENIOR DATA SCIENTIST</p><p>\\...   \n",
       "425  b'<div></div><div><div><div><div><p>Cerner Int...   \n",
       "\n",
       "                                                 title  \n",
       "0                                      Data scientist   \n",
       "1                                     Data Scientist I  \n",
       "2                         Data Scientist - Entry Level  \n",
       "3                                       Data Scientist  \n",
       "4                                       Data Scientist  \n",
       "..                                                 ...  \n",
       "421                       Senior Data Science Engineer  \n",
       "422  2019 PhD Data Scientist Internship - Forecasti...  \n",
       "423                         Data Scientist - Insurance  \n",
       "424                              Senior Data Scientist  \n",
       "425                                     Data Scientist  \n",
       "\n",
       "[426 rows x 2 columns]"
      ]
     },
     "execution_count": 114,
     "metadata": {},
     "output_type": "execute_result"
    }
   ],
   "source": [
    "df_job_lstgs_wrk = df_job_lstgs.copy()\n",
    "df_job_lstgs_wrk.drop(['Unnamed: 0'], axis=1)"
   ]
  },
  {
   "cell_type": "code",
   "execution_count": 115,
   "metadata": {},
   "outputs": [],
   "source": [
    "# Define regular expressions\n",
    "rgxFunkyLeadingb = re.compile(r'^b(\\\"|\\')')\n",
    "rgxTrailingQuote = re.compile(r'(\\\"|\\')$')\n",
    "\n",
    "# strip_bookends strips the non-standard leading and trailing characters\n",
    "def strip_bookends(val):\n",
    "    tmp = re.sub(rgxFunkyLeadingb, \"\", val)\n",
    "    tmp = re.sub(rgxTrailingQuote, \"\", tmp)\n",
    "    \n",
    "    return tmp"
   ]
  },
  {
   "cell_type": "code",
   "execution_count": 116,
   "metadata": {},
   "outputs": [
    {
     "data": {
      "text/html": [
       "<div>\n",
       "<style scoped>\n",
       "    .dataframe tbody tr th:only-of-type {\n",
       "        vertical-align: middle;\n",
       "    }\n",
       "\n",
       "    .dataframe tbody tr th {\n",
       "        vertical-align: top;\n",
       "    }\n",
       "\n",
       "    .dataframe thead th {\n",
       "        text-align: right;\n",
       "    }\n",
       "</style>\n",
       "<table border=\"1\" class=\"dataframe\">\n",
       "  <thead>\n",
       "    <tr style=\"text-align: right;\">\n",
       "      <th></th>\n",
       "      <th>Unnamed: 0</th>\n",
       "      <th>description</th>\n",
       "      <th>title</th>\n",
       "      <th>description_upd</th>\n",
       "    </tr>\n",
       "  </thead>\n",
       "  <tbody>\n",
       "    <tr>\n",
       "      <th>0</th>\n",
       "      <td>0</td>\n",
       "      <td>b\"&lt;div&gt;&lt;div&gt;Job Requirements:&lt;/div&gt;&lt;ul&gt;&lt;li&gt;&lt;p&gt;...</td>\n",
       "      <td>Data scientist</td>\n",
       "      <td>&lt;div&gt;&lt;div&gt;Job Requirements:&lt;/div&gt;&lt;ul&gt;&lt;li&gt;&lt;p&gt;\\n...</td>\n",
       "    </tr>\n",
       "    <tr>\n",
       "      <th>1</th>\n",
       "      <td>1</td>\n",
       "      <td>b'&lt;div&gt;Job Description&lt;br/&gt;\\n&lt;br/&gt;\\n&lt;p&gt;As a Da...</td>\n",
       "      <td>Data Scientist I</td>\n",
       "      <td>&lt;div&gt;Job Description&lt;br/&gt;\\n&lt;br/&gt;\\n&lt;p&gt;As a Data...</td>\n",
       "    </tr>\n",
       "    <tr>\n",
       "      <th>2</th>\n",
       "      <td>2</td>\n",
       "      <td>b'&lt;div&gt;&lt;p&gt;As a Data Scientist you will be work...</td>\n",
       "      <td>Data Scientist - Entry Level</td>\n",
       "      <td>&lt;div&gt;&lt;p&gt;As a Data Scientist you will be workin...</td>\n",
       "    </tr>\n",
       "    <tr>\n",
       "      <th>3</th>\n",
       "      <td>3</td>\n",
       "      <td>b'&lt;div class=\"jobsearch-JobMetadataHeader icl-...</td>\n",
       "      <td>Data Scientist</td>\n",
       "      <td>&lt;div class=\"jobsearch-JobMetadataHeader icl-u-...</td>\n",
       "    </tr>\n",
       "    <tr>\n",
       "      <th>4</th>\n",
       "      <td>4</td>\n",
       "      <td>b'&lt;ul&gt;&lt;li&gt;Location: USA \\xe2\\x80\\x93 multiple ...</td>\n",
       "      <td>Data Scientist</td>\n",
       "      <td>&lt;ul&gt;&lt;li&gt;Location: USA \\xe2\\x80\\x93 multiple lo...</td>\n",
       "    </tr>\n",
       "    <tr>\n",
       "      <th>...</th>\n",
       "      <td>...</td>\n",
       "      <td>...</td>\n",
       "      <td>...</td>\n",
       "      <td>...</td>\n",
       "    </tr>\n",
       "    <tr>\n",
       "      <th>421</th>\n",
       "      <td>421</td>\n",
       "      <td>b\"&lt;b&gt;About Us:&lt;/b&gt;&lt;br/&gt;\\nWant to be part of a ...</td>\n",
       "      <td>Senior Data Science Engineer</td>\n",
       "      <td>&lt;b&gt;About Us:&lt;/b&gt;&lt;br/&gt;\\nWant to be part of a fa...</td>\n",
       "    </tr>\n",
       "    <tr>\n",
       "      <th>422</th>\n",
       "      <td>422</td>\n",
       "      <td>b'&lt;div class=\"jobsearch-JobMetadataHeader icl-...</td>\n",
       "      <td>2019 PhD Data Scientist Internship - Forecasti...</td>\n",
       "      <td>&lt;div class=\"jobsearch-JobMetadataHeader icl-u-...</td>\n",
       "    </tr>\n",
       "    <tr>\n",
       "      <th>423</th>\n",
       "      <td>423</td>\n",
       "      <td>b'&lt;div class=\"jobsearch-JobMetadataHeader icl-...</td>\n",
       "      <td>Data Scientist - Insurance</td>\n",
       "      <td>&lt;div class=\"jobsearch-JobMetadataHeader icl-u-...</td>\n",
       "    </tr>\n",
       "    <tr>\n",
       "      <th>424</th>\n",
       "      <td>424</td>\n",
       "      <td>b\"&lt;p&gt;&lt;/p&gt;&lt;div&gt;&lt;p&gt;SENIOR DATA SCIENTIST&lt;/p&gt;&lt;p&gt;\\...</td>\n",
       "      <td>Senior Data Scientist</td>\n",
       "      <td>&lt;p&gt;&lt;/p&gt;&lt;div&gt;&lt;p&gt;SENIOR DATA SCIENTIST&lt;/p&gt;&lt;p&gt;\\nJ...</td>\n",
       "    </tr>\n",
       "    <tr>\n",
       "      <th>425</th>\n",
       "      <td>425</td>\n",
       "      <td>b'&lt;div&gt;&lt;/div&gt;&lt;div&gt;&lt;div&gt;&lt;div&gt;&lt;div&gt;&lt;p&gt;Cerner Int...</td>\n",
       "      <td>Data Scientist</td>\n",
       "      <td>&lt;div&gt;&lt;/div&gt;&lt;div&gt;&lt;div&gt;&lt;div&gt;&lt;div&gt;&lt;p&gt;Cerner Intel...</td>\n",
       "    </tr>\n",
       "  </tbody>\n",
       "</table>\n",
       "<p>426 rows × 4 columns</p>\n",
       "</div>"
      ],
      "text/plain": [
       "     Unnamed: 0                                        description  \\\n",
       "0             0  b\"<div><div>Job Requirements:</div><ul><li><p>...   \n",
       "1             1  b'<div>Job Description<br/>\\n<br/>\\n<p>As a Da...   \n",
       "2             2  b'<div><p>As a Data Scientist you will be work...   \n",
       "3             3  b'<div class=\"jobsearch-JobMetadataHeader icl-...   \n",
       "4             4  b'<ul><li>Location: USA \\xe2\\x80\\x93 multiple ...   \n",
       "..          ...                                                ...   \n",
       "421         421  b\"<b>About Us:</b><br/>\\nWant to be part of a ...   \n",
       "422         422  b'<div class=\"jobsearch-JobMetadataHeader icl-...   \n",
       "423         423  b'<div class=\"jobsearch-JobMetadataHeader icl-...   \n",
       "424         424  b\"<p></p><div><p>SENIOR DATA SCIENTIST</p><p>\\...   \n",
       "425         425  b'<div></div><div><div><div><div><p>Cerner Int...   \n",
       "\n",
       "                                                 title  \\\n",
       "0                                      Data scientist    \n",
       "1                                     Data Scientist I   \n",
       "2                         Data Scientist - Entry Level   \n",
       "3                                       Data Scientist   \n",
       "4                                       Data Scientist   \n",
       "..                                                 ...   \n",
       "421                       Senior Data Science Engineer   \n",
       "422  2019 PhD Data Scientist Internship - Forecasti...   \n",
       "423                         Data Scientist - Insurance   \n",
       "424                              Senior Data Scientist   \n",
       "425                                     Data Scientist   \n",
       "\n",
       "                                       description_upd  \n",
       "0    <div><div>Job Requirements:</div><ul><li><p>\\n...  \n",
       "1    <div>Job Description<br/>\\n<br/>\\n<p>As a Data...  \n",
       "2    <div><p>As a Data Scientist you will be workin...  \n",
       "3    <div class=\"jobsearch-JobMetadataHeader icl-u-...  \n",
       "4    <ul><li>Location: USA \\xe2\\x80\\x93 multiple lo...  \n",
       "..                                                 ...  \n",
       "421  <b>About Us:</b><br/>\\nWant to be part of a fa...  \n",
       "422  <div class=\"jobsearch-JobMetadataHeader icl-u-...  \n",
       "423  <div class=\"jobsearch-JobMetadataHeader icl-u-...  \n",
       "424  <p></p><div><p>SENIOR DATA SCIENTIST</p><p>\\nJ...  \n",
       "425  <div></div><div><div><div><div><p>Cerner Intel...  \n",
       "\n",
       "[426 rows x 4 columns]"
      ]
     },
     "execution_count": 116,
     "metadata": {},
     "output_type": "execute_result"
    }
   ],
   "source": [
    "# Execute the stripping function\n",
    "df_job_lstgs_wrk['description_upd'] = df_job_lstgs_wrk['description'].apply(strip_bookends)\n",
    "df_job_lstgs_wrk"
   ]
  },
  {
   "cell_type": "code",
   "execution_count": 117,
   "metadata": {},
   "outputs": [
    {
     "data": {
      "text/plain": [
       "Index(['Unnamed: 0', 'description', 'title', 'description_upd'], dtype='object')"
      ]
     },
     "execution_count": 117,
     "metadata": {},
     "output_type": "execute_result"
    }
   ],
   "source": [
    "# Reset the dataframe index\n",
    "df_job_lstgs_wrk.reset_index(drop=True, inplace=True)\n",
    "df_job_lstgs_wrk.columns"
   ]
  },
  {
   "cell_type": "code",
   "execution_count": 118,
   "metadata": {},
   "outputs": [
    {
     "data": {
      "text/html": [
       "<div>\n",
       "<style scoped>\n",
       "    .dataframe tbody tr th:only-of-type {\n",
       "        vertical-align: middle;\n",
       "    }\n",
       "\n",
       "    .dataframe tbody tr th {\n",
       "        vertical-align: top;\n",
       "    }\n",
       "\n",
       "    .dataframe thead th {\n",
       "        text-align: right;\n",
       "    }\n",
       "</style>\n",
       "<table border=\"1\" class=\"dataframe\">\n",
       "  <thead>\n",
       "    <tr style=\"text-align: right;\">\n",
       "      <th></th>\n",
       "      <th>description</th>\n",
       "      <th>title</th>\n",
       "      <th>description_upd</th>\n",
       "    </tr>\n",
       "  </thead>\n",
       "  <tbody>\n",
       "    <tr>\n",
       "      <th>0</th>\n",
       "      <td>b\"&lt;div&gt;&lt;div&gt;Job Requirements:&lt;/div&gt;&lt;ul&gt;&lt;li&gt;&lt;p&gt;...</td>\n",
       "      <td>Data scientist</td>\n",
       "      <td>&lt;div&gt;&lt;div&gt;Job Requirements:&lt;/div&gt;&lt;ul&gt;&lt;li&gt;&lt;p&gt;\\n...</td>\n",
       "    </tr>\n",
       "    <tr>\n",
       "      <th>1</th>\n",
       "      <td>b'&lt;div&gt;Job Description&lt;br/&gt;\\n&lt;br/&gt;\\n&lt;p&gt;As a Da...</td>\n",
       "      <td>Data Scientist I</td>\n",
       "      <td>&lt;div&gt;Job Description&lt;br/&gt;\\n&lt;br/&gt;\\n&lt;p&gt;As a Data...</td>\n",
       "    </tr>\n",
       "    <tr>\n",
       "      <th>2</th>\n",
       "      <td>b'&lt;div&gt;&lt;p&gt;As a Data Scientist you will be work...</td>\n",
       "      <td>Data Scientist - Entry Level</td>\n",
       "      <td>&lt;div&gt;&lt;p&gt;As a Data Scientist you will be workin...</td>\n",
       "    </tr>\n",
       "    <tr>\n",
       "      <th>3</th>\n",
       "      <td>b'&lt;div class=\"jobsearch-JobMetadataHeader icl-...</td>\n",
       "      <td>Data Scientist</td>\n",
       "      <td>&lt;div class=\"jobsearch-JobMetadataHeader icl-u-...</td>\n",
       "    </tr>\n",
       "    <tr>\n",
       "      <th>4</th>\n",
       "      <td>b'&lt;ul&gt;&lt;li&gt;Location: USA \\xe2\\x80\\x93 multiple ...</td>\n",
       "      <td>Data Scientist</td>\n",
       "      <td>&lt;ul&gt;&lt;li&gt;Location: USA \\xe2\\x80\\x93 multiple lo...</td>\n",
       "    </tr>\n",
       "    <tr>\n",
       "      <th>...</th>\n",
       "      <td>...</td>\n",
       "      <td>...</td>\n",
       "      <td>...</td>\n",
       "    </tr>\n",
       "    <tr>\n",
       "      <th>421</th>\n",
       "      <td>b\"&lt;b&gt;About Us:&lt;/b&gt;&lt;br/&gt;\\nWant to be part of a ...</td>\n",
       "      <td>Senior Data Science Engineer</td>\n",
       "      <td>&lt;b&gt;About Us:&lt;/b&gt;&lt;br/&gt;\\nWant to be part of a fa...</td>\n",
       "    </tr>\n",
       "    <tr>\n",
       "      <th>422</th>\n",
       "      <td>b'&lt;div class=\"jobsearch-JobMetadataHeader icl-...</td>\n",
       "      <td>2019 PhD Data Scientist Internship - Forecasti...</td>\n",
       "      <td>&lt;div class=\"jobsearch-JobMetadataHeader icl-u-...</td>\n",
       "    </tr>\n",
       "    <tr>\n",
       "      <th>423</th>\n",
       "      <td>b'&lt;div class=\"jobsearch-JobMetadataHeader icl-...</td>\n",
       "      <td>Data Scientist - Insurance</td>\n",
       "      <td>&lt;div class=\"jobsearch-JobMetadataHeader icl-u-...</td>\n",
       "    </tr>\n",
       "    <tr>\n",
       "      <th>424</th>\n",
       "      <td>b\"&lt;p&gt;&lt;/p&gt;&lt;div&gt;&lt;p&gt;SENIOR DATA SCIENTIST&lt;/p&gt;&lt;p&gt;\\...</td>\n",
       "      <td>Senior Data Scientist</td>\n",
       "      <td>&lt;p&gt;&lt;/p&gt;&lt;div&gt;&lt;p&gt;SENIOR DATA SCIENTIST&lt;/p&gt;&lt;p&gt;\\nJ...</td>\n",
       "    </tr>\n",
       "    <tr>\n",
       "      <th>425</th>\n",
       "      <td>b'&lt;div&gt;&lt;/div&gt;&lt;div&gt;&lt;div&gt;&lt;div&gt;&lt;div&gt;&lt;p&gt;Cerner Int...</td>\n",
       "      <td>Data Scientist</td>\n",
       "      <td>&lt;div&gt;&lt;/div&gt;&lt;div&gt;&lt;div&gt;&lt;div&gt;&lt;div&gt;&lt;p&gt;Cerner Intel...</td>\n",
       "    </tr>\n",
       "  </tbody>\n",
       "</table>\n",
       "<p>426 rows × 3 columns</p>\n",
       "</div>"
      ],
      "text/plain": [
       "                                           description  \\\n",
       "0    b\"<div><div>Job Requirements:</div><ul><li><p>...   \n",
       "1    b'<div>Job Description<br/>\\n<br/>\\n<p>As a Da...   \n",
       "2    b'<div><p>As a Data Scientist you will be work...   \n",
       "3    b'<div class=\"jobsearch-JobMetadataHeader icl-...   \n",
       "4    b'<ul><li>Location: USA \\xe2\\x80\\x93 multiple ...   \n",
       "..                                                 ...   \n",
       "421  b\"<b>About Us:</b><br/>\\nWant to be part of a ...   \n",
       "422  b'<div class=\"jobsearch-JobMetadataHeader icl-...   \n",
       "423  b'<div class=\"jobsearch-JobMetadataHeader icl-...   \n",
       "424  b\"<p></p><div><p>SENIOR DATA SCIENTIST</p><p>\\...   \n",
       "425  b'<div></div><div><div><div><div><p>Cerner Int...   \n",
       "\n",
       "                                                 title  \\\n",
       "0                                      Data scientist    \n",
       "1                                     Data Scientist I   \n",
       "2                         Data Scientist - Entry Level   \n",
       "3                                       Data Scientist   \n",
       "4                                       Data Scientist   \n",
       "..                                                 ...   \n",
       "421                       Senior Data Science Engineer   \n",
       "422  2019 PhD Data Scientist Internship - Forecasti...   \n",
       "423                         Data Scientist - Insurance   \n",
       "424                              Senior Data Scientist   \n",
       "425                                     Data Scientist   \n",
       "\n",
       "                                       description_upd  \n",
       "0    <div><div>Job Requirements:</div><ul><li><p>\\n...  \n",
       "1    <div>Job Description<br/>\\n<br/>\\n<p>As a Data...  \n",
       "2    <div><p>As a Data Scientist you will be workin...  \n",
       "3    <div class=\"jobsearch-JobMetadataHeader icl-u-...  \n",
       "4    <ul><li>Location: USA \\xe2\\x80\\x93 multiple lo...  \n",
       "..                                                 ...  \n",
       "421  <b>About Us:</b><br/>\\nWant to be part of a fa...  \n",
       "422  <div class=\"jobsearch-JobMetadataHeader icl-u-...  \n",
       "423  <div class=\"jobsearch-JobMetadataHeader icl-u-...  \n",
       "424  <p></p><div><p>SENIOR DATA SCIENTIST</p><p>\\nJ...  \n",
       "425  <div></div><div><div><div><div><p>Cerner Intel...  \n",
       "\n",
       "[426 rows x 3 columns]"
      ]
     },
     "execution_count": 118,
     "metadata": {},
     "output_type": "execute_result"
    }
   ],
   "source": [
    "df_job_lstgs_wrk.drop(['Unnamed: 0'], axis=1)"
   ]
  },
  {
   "cell_type": "code",
   "execution_count": 119,
   "metadata": {},
   "outputs": [],
   "source": [
    "# Remove HTML tags in the description_upd column\n",
    "\n",
    "# strip_html applies BeautifulSoup's get_text function to strip HTML tags from a string of text\n",
    "def strip_html(txt):\n",
    "    soup = BeautifulSoup(txt)\n",
    "    return soup.get_text()"
   ]
  },
  {
   "cell_type": "code",
   "execution_count": 120,
   "metadata": {},
   "outputs": [
    {
     "data": {
      "text/plain": [
       "0      Job Requirements:\\nConceptual understanding in...\n",
       "1      Job Description\\n\\nAs a Data Scientist 1, you ...\n",
       "2      As a Data Scientist you will be working on con...\n",
       "3      $4,969 - $6,756 a monthContractUnder the gener...\n",
       "4      Location: USA \\xe2\\x80\\x93 multiple locations\\...\n",
       "                             ...                        \n",
       "421    About Us:\\nWant to be part of a fantastic and ...\n",
       "422    InternshipAt Uber, we ignite opportunity by se...\n",
       "423    $200,000 - $350,000 a yearA million people a y...\n",
       "424    SENIOR DATA SCIENTIST\\nJOB DESCRIPTION\\n\\nABOU...\n",
       "425    Cerner Intelligence is a new, innovative organ...\n",
       "Name: description_upd, Length: 426, dtype: object"
      ]
     },
     "execution_count": 120,
     "metadata": {},
     "output_type": "execute_result"
    }
   ],
   "source": [
    "df_job_lstgs_wrk['description_upd'] = df_job_lstgs_wrk['description_upd'].apply(strip_html)\n",
    "df_job_lstgs_wrk['description_upd']"
   ]
  },
  {
   "cell_type": "markdown",
   "metadata": {
    "colab_type": "text",
    "id": "5C4xFZNtX1m2"
   },
   "source": [
    "## 2) Use Spacy to tokenize the listings "
   ]
  },
  {
   "cell_type": "code",
   "execution_count": 121,
   "metadata": {
    "colab": {},
    "colab_type": "code",
    "id": "dhUHuMr-X-II"
   },
   "outputs": [],
   "source": [
    "from spacy.tokenizer import Tokenizer\n",
    "\n",
    "# Import the large core english module\n",
    "nlp = spacy.load(\"en_core_web_lg\")\n",
    "\n",
    "# Create the Tokenizer object\n",
    "tokenizer = Tokenizer(nlp.vocab)"
   ]
  },
  {
   "cell_type": "code",
   "execution_count": 122,
   "metadata": {},
   "outputs": [],
   "source": [
    "# Generate tokens\n",
    "tmp_tokens = [] # working list of tokens\n",
    "\n",
    "# Iterate through the dataframe column and generate tokens\n",
    "for doc in tokenizer.pipe(df_job_lstgs_wrk['description_upd'], batch_size=1000):\n",
    "    # Generate the tokens for this iteration (df row column)\n",
    "    doc_tkns = [token.text for token in doc]\n",
    "    # Append to our temporary/working list of tokens\n",
    "    tmp_tokens.append(doc_tkns)\n",
    "    \n",
    "# Add the list of tokens to our dataframe as a column\n",
    "df_job_lstgs_wrk['tokens'] = tmp_tokens"
   ]
  },
  {
   "cell_type": "code",
   "execution_count": 123,
   "metadata": {},
   "outputs": [
    {
     "data": {
      "text/plain": [
       "244    [Zeus, -, Flawless, Stays.\\n\\nFounded, in, Nov...\n",
       "123    [Motiion, is, a, technology, and, data, compan...\n",
       "125    [Part-time,, Temporary,, InternshipBMW, Techno...\n",
       "144    [Position, Description\\nWe,, Smart, Pricing,, ...\n",
       "157    [Channel, and, Intellectual, Property, Protect...\n",
       "309    [ContractJob, Description\\nWhat, You\\xe2\\x80\\x...\n",
       "284    [Socure, is, headquartered, in, NYC, and, is, ...\n",
       "97     [We\\'re, looking, for, Data, Scientists, who, ...\n",
       "111    [Mine, rich, user, data, sets, and, find, insi...\n",
       "415    [Temporary,, Internship\\nThe, Marketing, Data,...\n",
       "188    [Conducts, research, using, advanced, statisti...\n",
       "55     [Senior, Data, Scientist-19000BN4\\n\\n\\nPreferr...\n",
       "330    [Location:, San, Jose,, CA\\n\\nAbout, Outward,,...\n",
       "198    [Sr., Data, Scientist-1901744\\nDescription\\nTh...\n",
       "62     [Business, Unit, Introduction:\\n\\nThis, positi...\n",
       "11     [Part-timeAbout, The, Opportunity\\nHere, at, G...\n",
       "211    [CommissionAt, Red, Hat,, we, connect, an, inn...\n",
       "273    [Join, a, team, recognized, for, leadership,, ...\n",
       "278    [Temporary,, InternshipJob, Description\\nIBM, ...\n",
       "199    [The, Data, Science, &, Analytics, practice, g...\n",
       "Name: tokens, dtype: object"
      ]
     },
     "execution_count": 123,
     "metadata": {},
     "output_type": "execute_result"
    }
   ],
   "source": [
    "df_job_lstgs_wrk['tokens'].sample(20)"
   ]
  },
  {
   "cell_type": "markdown",
   "metadata": {
    "colab_type": "text",
    "id": "-lgCZNL_YycP"
   },
   "source": [
    "## 3) Use Scikit-Learn's CountVectorizer to get word counts for each listing."
   ]
  },
  {
   "cell_type": "code",
   "execution_count": 124,
   "metadata": {
    "colab": {},
    "colab_type": "code",
    "id": "X2PZ8Pj_YxcF"
   },
   "outputs": [],
   "source": [
    "from sklearn.feature_extraction.text import CountVectorizer\n",
    "\n",
    "# Initialize the CountVectorizer\n",
    "vect = CountVectorizer(stop_words='english')\n",
    "\n",
    "# Build a vocabulary against our universe of tokens\n",
    "vect.fit(df_job_lstgs_wrk['description_upd'])\n",
    "\n",
    "# transform text\n",
    "dtm = vect.transform(df_job_lstgs_wrk['description_upd'])"
   ]
  },
  {
   "cell_type": "code",
   "execution_count": 125,
   "metadata": {},
   "outputs": [
    {
     "data": {
      "text/plain": [
       "(426, 9816)"
      ]
     },
     "execution_count": 125,
     "metadata": {},
     "output_type": "execute_result"
    }
   ],
   "source": [
    "dtm.shape"
   ]
  },
  {
   "cell_type": "code",
   "execution_count": 126,
   "metadata": {},
   "outputs": [
    {
     "name": "stdout",
     "output_type": "stream",
     "text": [
      "['00', '000', '02115', '03', '0356', '04', '062', '06366', '08', '10', '100', '1000', '1001', '1008', '100k', '100x', '105', '1079302', '1082692', '10b', '10ms', '10x', '11', '110k', '112', '114157802', '12', '120', '125', '126', '130', '1315', '1324b', '138', '14', '140', '15', '150', '15000', '159m']\n"
     ]
    }
   ],
   "source": [
    "print(vect.get_feature_names()[:40])"
   ]
  },
  {
   "cell_type": "markdown",
   "metadata": {
    "colab_type": "text",
    "id": "Zo1iH_UeY7_n"
   },
   "source": [
    "## 4) Visualize the most common word counts"
   ]
  },
  {
   "cell_type": "code",
   "execution_count": 127,
   "metadata": {
    "colab": {},
    "colab_type": "code",
    "id": "M5LB00uyZKV5"
   },
   "outputs": [
    {
     "data": {
      "text/plain": [
       "matrix([[0, 0, 0, ..., 0, 0, 0],\n",
       "        [0, 0, 0, ..., 0, 0, 0],\n",
       "        [0, 0, 0, ..., 0, 0, 0],\n",
       "        ...,\n",
       "        [0, 2, 0, ..., 0, 0, 0],\n",
       "        [0, 0, 0, ..., 0, 0, 0],\n",
       "        [0, 1, 0, ..., 0, 0, 0]])"
      ]
     },
     "execution_count": 127,
     "metadata": {},
     "output_type": "execute_result"
    }
   ],
   "source": [
    "# Condense the CountVectorizer transformation to a sparse matrix\n",
    "dtm.todense()"
   ]
  },
  {
   "cell_type": "code",
   "execution_count": 128,
   "metadata": {},
   "outputs": [
    {
     "data": {
      "text/html": [
       "<div>\n",
       "<style scoped>\n",
       "    .dataframe tbody tr th:only-of-type {\n",
       "        vertical-align: middle;\n",
       "    }\n",
       "\n",
       "    .dataframe tbody tr th {\n",
       "        vertical-align: top;\n",
       "    }\n",
       "\n",
       "    .dataframe thead th {\n",
       "        text-align: right;\n",
       "    }\n",
       "</style>\n",
       "<table border=\"1\" class=\"dataframe\">\n",
       "  <thead>\n",
       "    <tr style=\"text-align: right;\">\n",
       "      <th></th>\n",
       "      <th>00</th>\n",
       "      <th>000</th>\n",
       "      <th>02115</th>\n",
       "      <th>03</th>\n",
       "      <th>0356</th>\n",
       "      <th>04</th>\n",
       "      <th>062</th>\n",
       "      <th>06366</th>\n",
       "      <th>08</th>\n",
       "      <th>10</th>\n",
       "      <th>...</th>\n",
       "      <th>zenreach</th>\n",
       "      <th>zero</th>\n",
       "      <th>zeus</th>\n",
       "      <th>zf</th>\n",
       "      <th>zheng</th>\n",
       "      <th>zillow</th>\n",
       "      <th>zones</th>\n",
       "      <th>zoom</th>\n",
       "      <th>zuckerberg</th>\n",
       "      <th>zurich</th>\n",
       "    </tr>\n",
       "  </thead>\n",
       "  <tbody>\n",
       "    <tr>\n",
       "      <th>0</th>\n",
       "      <td>0</td>\n",
       "      <td>0</td>\n",
       "      <td>0</td>\n",
       "      <td>0</td>\n",
       "      <td>0</td>\n",
       "      <td>0</td>\n",
       "      <td>0</td>\n",
       "      <td>0</td>\n",
       "      <td>0</td>\n",
       "      <td>0</td>\n",
       "      <td>...</td>\n",
       "      <td>0</td>\n",
       "      <td>0</td>\n",
       "      <td>0</td>\n",
       "      <td>0</td>\n",
       "      <td>0</td>\n",
       "      <td>0</td>\n",
       "      <td>0</td>\n",
       "      <td>0</td>\n",
       "      <td>0</td>\n",
       "      <td>0</td>\n",
       "    </tr>\n",
       "    <tr>\n",
       "      <th>1</th>\n",
       "      <td>0</td>\n",
       "      <td>0</td>\n",
       "      <td>0</td>\n",
       "      <td>0</td>\n",
       "      <td>0</td>\n",
       "      <td>0</td>\n",
       "      <td>0</td>\n",
       "      <td>0</td>\n",
       "      <td>0</td>\n",
       "      <td>0</td>\n",
       "      <td>...</td>\n",
       "      <td>0</td>\n",
       "      <td>0</td>\n",
       "      <td>0</td>\n",
       "      <td>0</td>\n",
       "      <td>0</td>\n",
       "      <td>0</td>\n",
       "      <td>0</td>\n",
       "      <td>0</td>\n",
       "      <td>0</td>\n",
       "      <td>0</td>\n",
       "    </tr>\n",
       "    <tr>\n",
       "      <th>2</th>\n",
       "      <td>0</td>\n",
       "      <td>0</td>\n",
       "      <td>0</td>\n",
       "      <td>0</td>\n",
       "      <td>0</td>\n",
       "      <td>0</td>\n",
       "      <td>0</td>\n",
       "      <td>0</td>\n",
       "      <td>0</td>\n",
       "      <td>0</td>\n",
       "      <td>...</td>\n",
       "      <td>0</td>\n",
       "      <td>0</td>\n",
       "      <td>0</td>\n",
       "      <td>0</td>\n",
       "      <td>0</td>\n",
       "      <td>0</td>\n",
       "      <td>0</td>\n",
       "      <td>0</td>\n",
       "      <td>0</td>\n",
       "      <td>0</td>\n",
       "    </tr>\n",
       "    <tr>\n",
       "      <th>3</th>\n",
       "      <td>0</td>\n",
       "      <td>0</td>\n",
       "      <td>0</td>\n",
       "      <td>0</td>\n",
       "      <td>0</td>\n",
       "      <td>0</td>\n",
       "      <td>0</td>\n",
       "      <td>0</td>\n",
       "      <td>0</td>\n",
       "      <td>0</td>\n",
       "      <td>...</td>\n",
       "      <td>0</td>\n",
       "      <td>0</td>\n",
       "      <td>0</td>\n",
       "      <td>0</td>\n",
       "      <td>1</td>\n",
       "      <td>0</td>\n",
       "      <td>0</td>\n",
       "      <td>0</td>\n",
       "      <td>0</td>\n",
       "      <td>0</td>\n",
       "    </tr>\n",
       "    <tr>\n",
       "      <th>4</th>\n",
       "      <td>0</td>\n",
       "      <td>0</td>\n",
       "      <td>0</td>\n",
       "      <td>0</td>\n",
       "      <td>0</td>\n",
       "      <td>0</td>\n",
       "      <td>0</td>\n",
       "      <td>0</td>\n",
       "      <td>0</td>\n",
       "      <td>0</td>\n",
       "      <td>...</td>\n",
       "      <td>0</td>\n",
       "      <td>0</td>\n",
       "      <td>0</td>\n",
       "      <td>0</td>\n",
       "      <td>0</td>\n",
       "      <td>0</td>\n",
       "      <td>0</td>\n",
       "      <td>0</td>\n",
       "      <td>0</td>\n",
       "      <td>0</td>\n",
       "    </tr>\n",
       "    <tr>\n",
       "      <th>...</th>\n",
       "      <td>...</td>\n",
       "      <td>...</td>\n",
       "      <td>...</td>\n",
       "      <td>...</td>\n",
       "      <td>...</td>\n",
       "      <td>...</td>\n",
       "      <td>...</td>\n",
       "      <td>...</td>\n",
       "      <td>...</td>\n",
       "      <td>...</td>\n",
       "      <td>...</td>\n",
       "      <td>...</td>\n",
       "      <td>...</td>\n",
       "      <td>...</td>\n",
       "      <td>...</td>\n",
       "      <td>...</td>\n",
       "      <td>...</td>\n",
       "      <td>...</td>\n",
       "      <td>...</td>\n",
       "      <td>...</td>\n",
       "      <td>...</td>\n",
       "    </tr>\n",
       "    <tr>\n",
       "      <th>421</th>\n",
       "      <td>0</td>\n",
       "      <td>0</td>\n",
       "      <td>0</td>\n",
       "      <td>0</td>\n",
       "      <td>0</td>\n",
       "      <td>0</td>\n",
       "      <td>0</td>\n",
       "      <td>0</td>\n",
       "      <td>0</td>\n",
       "      <td>0</td>\n",
       "      <td>...</td>\n",
       "      <td>0</td>\n",
       "      <td>0</td>\n",
       "      <td>0</td>\n",
       "      <td>0</td>\n",
       "      <td>0</td>\n",
       "      <td>0</td>\n",
       "      <td>0</td>\n",
       "      <td>0</td>\n",
       "      <td>0</td>\n",
       "      <td>0</td>\n",
       "    </tr>\n",
       "    <tr>\n",
       "      <th>422</th>\n",
       "      <td>0</td>\n",
       "      <td>0</td>\n",
       "      <td>0</td>\n",
       "      <td>0</td>\n",
       "      <td>0</td>\n",
       "      <td>0</td>\n",
       "      <td>0</td>\n",
       "      <td>0</td>\n",
       "      <td>0</td>\n",
       "      <td>0</td>\n",
       "      <td>...</td>\n",
       "      <td>0</td>\n",
       "      <td>0</td>\n",
       "      <td>0</td>\n",
       "      <td>0</td>\n",
       "      <td>0</td>\n",
       "      <td>0</td>\n",
       "      <td>0</td>\n",
       "      <td>0</td>\n",
       "      <td>0</td>\n",
       "      <td>0</td>\n",
       "    </tr>\n",
       "    <tr>\n",
       "      <th>423</th>\n",
       "      <td>0</td>\n",
       "      <td>2</td>\n",
       "      <td>0</td>\n",
       "      <td>0</td>\n",
       "      <td>0</td>\n",
       "      <td>0</td>\n",
       "      <td>0</td>\n",
       "      <td>0</td>\n",
       "      <td>0</td>\n",
       "      <td>0</td>\n",
       "      <td>...</td>\n",
       "      <td>0</td>\n",
       "      <td>1</td>\n",
       "      <td>0</td>\n",
       "      <td>0</td>\n",
       "      <td>0</td>\n",
       "      <td>0</td>\n",
       "      <td>0</td>\n",
       "      <td>0</td>\n",
       "      <td>0</td>\n",
       "      <td>0</td>\n",
       "    </tr>\n",
       "    <tr>\n",
       "      <th>424</th>\n",
       "      <td>0</td>\n",
       "      <td>0</td>\n",
       "      <td>0</td>\n",
       "      <td>0</td>\n",
       "      <td>0</td>\n",
       "      <td>0</td>\n",
       "      <td>0</td>\n",
       "      <td>0</td>\n",
       "      <td>0</td>\n",
       "      <td>0</td>\n",
       "      <td>...</td>\n",
       "      <td>0</td>\n",
       "      <td>0</td>\n",
       "      <td>0</td>\n",
       "      <td>0</td>\n",
       "      <td>0</td>\n",
       "      <td>0</td>\n",
       "      <td>0</td>\n",
       "      <td>0</td>\n",
       "      <td>0</td>\n",
       "      <td>0</td>\n",
       "    </tr>\n",
       "    <tr>\n",
       "      <th>425</th>\n",
       "      <td>0</td>\n",
       "      <td>1</td>\n",
       "      <td>0</td>\n",
       "      <td>0</td>\n",
       "      <td>0</td>\n",
       "      <td>0</td>\n",
       "      <td>0</td>\n",
       "      <td>0</td>\n",
       "      <td>0</td>\n",
       "      <td>0</td>\n",
       "      <td>...</td>\n",
       "      <td>0</td>\n",
       "      <td>0</td>\n",
       "      <td>0</td>\n",
       "      <td>0</td>\n",
       "      <td>0</td>\n",
       "      <td>0</td>\n",
       "      <td>0</td>\n",
       "      <td>0</td>\n",
       "      <td>0</td>\n",
       "      <td>0</td>\n",
       "    </tr>\n",
       "  </tbody>\n",
       "</table>\n",
       "<p>426 rows × 9816 columns</p>\n",
       "</div>"
      ],
      "text/plain": [
       "     00  000  02115  03  0356  04  062  06366  08  10  ...  zenreach  zero  \\\n",
       "0     0    0      0   0     0   0    0      0   0   0  ...         0     0   \n",
       "1     0    0      0   0     0   0    0      0   0   0  ...         0     0   \n",
       "2     0    0      0   0     0   0    0      0   0   0  ...         0     0   \n",
       "3     0    0      0   0     0   0    0      0   0   0  ...         0     0   \n",
       "4     0    0      0   0     0   0    0      0   0   0  ...         0     0   \n",
       "..   ..  ...    ...  ..   ...  ..  ...    ...  ..  ..  ...       ...   ...   \n",
       "421   0    0      0   0     0   0    0      0   0   0  ...         0     0   \n",
       "422   0    0      0   0     0   0    0      0   0   0  ...         0     0   \n",
       "423   0    2      0   0     0   0    0      0   0   0  ...         0     1   \n",
       "424   0    0      0   0     0   0    0      0   0   0  ...         0     0   \n",
       "425   0    1      0   0     0   0    0      0   0   0  ...         0     0   \n",
       "\n",
       "     zeus  zf  zheng  zillow  zones  zoom  zuckerberg  zurich  \n",
       "0       0   0      0       0      0     0           0       0  \n",
       "1       0   0      0       0      0     0           0       0  \n",
       "2       0   0      0       0      0     0           0       0  \n",
       "3       0   0      1       0      0     0           0       0  \n",
       "4       0   0      0       0      0     0           0       0  \n",
       "..    ...  ..    ...     ...    ...   ...         ...     ...  \n",
       "421     0   0      0       0      0     0           0       0  \n",
       "422     0   0      0       0      0     0           0       0  \n",
       "423     0   0      0       0      0     0           0       0  \n",
       "424     0   0      0       0      0     0           0       0  \n",
       "425     0   0      0       0      0     0           0       0  \n",
       "\n",
       "[426 rows x 9816 columns]"
      ]
     },
     "execution_count": 128,
     "metadata": {},
     "output_type": "execute_result"
    }
   ],
   "source": [
    "# Generate a Word Count dataframe indicating the word count for each document\n",
    "dtm_wc = pd.DataFrame(dtm.todense(), columns=vect.get_feature_names())\n",
    "dtm_wc"
   ]
  },
  {
   "cell_type": "code",
   "execution_count": 129,
   "metadata": {},
   "outputs": [
    {
     "data": {
      "text/plain": [
       "00             1\n",
       "000           52\n",
       "02115          1\n",
       "03             2\n",
       "0356           1\n",
       "              ..\n",
       "zillow         7\n",
       "zones          1\n",
       "zoom           1\n",
       "zuckerberg     2\n",
       "zurich         2\n",
       "Length: 9816, dtype: int64"
      ]
     },
     "execution_count": 129,
     "metadata": {},
     "output_type": "execute_result"
    }
   ],
   "source": [
    "dtm_wc_sum = dtm_wc.sum()\n",
    "dtm_wc_sum"
   ]
  },
  {
   "cell_type": "code",
   "execution_count": 130,
   "metadata": {},
   "outputs": [
    {
     "data": {
      "text/plain": [
       "data           4394\n",
       "xe2            1417\n",
       "x80            1404\n",
       "experience     1238\n",
       "business       1198\n",
       "work            976\n",
       "team            972\n",
       "science         956\n",
       "learning        912\n",
       "analytics       730\n",
       "machine         686\n",
       "analysis        675\n",
       "skills          673\n",
       "nexperience     616\n",
       "models          614\n",
       "product         578\n",
       "statistical     566\n",
       "x99s            564\n",
       "solutions       530\n",
       "new             527\n",
       "dtype: int64"
      ]
     },
     "execution_count": 130,
     "metadata": {},
     "output_type": "execute_result"
    }
   ],
   "source": [
    "# Determine the word count for 'collaborate'\n",
    "dtm_wc_sum_sort = dtm_wc_sum.sort_values(ascending=False)\n",
    "\n",
    "\n",
    "dtm_wc_sum_sort[:20]"
   ]
  },
  {
   "cell_type": "code",
   "execution_count": 131,
   "metadata": {},
   "outputs": [
    {
     "data": {
      "image/png": "[encoded data removed]",
      "text/plain": [
       "<Figure size 432x288 with 1 Axes>"
      ]
     },
     "metadata": {
      "needs_background": "light"
     },
     "output_type": "display_data"
    }
   ],
   "source": [
    "dtm_wc_sum_sort[:20].plot(kind='bar', title='20 Most Common Words by Count', grid=True);"
   ]
  },
  {
   "cell_type": "markdown",
   "metadata": {
    "colab_type": "text",
    "id": "bwFsTqrVZMYi"
   },
   "source": [
    "## 5) Use Scikit-Learn's tfidfVectorizer to get a TF-IDF feature matrix"
   ]
  },
  {
   "cell_type": "code",
   "execution_count": 132,
   "metadata": {
    "colab": {},
    "colab_type": "code",
    "id": "-gx2gZCbl5Np"
   },
   "outputs": [
    {
     "name": "stdout",
     "output_type": "stream",
     "text": [
      "(426, 2500)\n"
     ]
    },
    {
     "data": {
      "text/html": [
       "<div>\n",
       "<style scoped>\n",
       "    .dataframe tbody tr th:only-of-type {\n",
       "        vertical-align: middle;\n",
       "    }\n",
       "\n",
       "    .dataframe tbody tr th {\n",
       "        vertical-align: top;\n",
       "    }\n",
       "\n",
       "    .dataframe thead th {\n",
       "        text-align: right;\n",
       "    }\n",
       "</style>\n",
       "<table border=\"1\" class=\"dataframe\">\n",
       "  <thead>\n",
       "    <tr style=\"text-align: right;\">\n",
       "      <th></th>\n",
       "      <th>000</th>\n",
       "      <th>10</th>\n",
       "      <th>100</th>\n",
       "      <th>12</th>\n",
       "      <th>12 months</th>\n",
       "      <th>20</th>\n",
       "      <th>2019</th>\n",
       "      <th>3rd</th>\n",
       "      <th>40</th>\n",
       "      <th>500</th>\n",
       "      <th>...</th>\n",
       "      <th>years experience</th>\n",
       "      <th>years hands</th>\n",
       "      <th>years industry</th>\n",
       "      <th>years professional</th>\n",
       "      <th>years relevant</th>\n",
       "      <th>years work</th>\n",
       "      <th>years xe2</th>\n",
       "      <th>york</th>\n",
       "      <th>york city</th>\n",
       "      <th>zf</th>\n",
       "    </tr>\n",
       "  </thead>\n",
       "  <tbody>\n",
       "    <tr>\n",
       "      <th>0</th>\n",
       "      <td>0.0</td>\n",
       "      <td>0.0</td>\n",
       "      <td>0.0</td>\n",
       "      <td>0.0</td>\n",
       "      <td>0.0</td>\n",
       "      <td>0.0</td>\n",
       "      <td>0.0</td>\n",
       "      <td>0.0</td>\n",
       "      <td>0.0</td>\n",
       "      <td>0.0</td>\n",
       "      <td>...</td>\n",
       "      <td>0.0</td>\n",
       "      <td>0.0</td>\n",
       "      <td>0.0</td>\n",
       "      <td>0.0</td>\n",
       "      <td>0.0</td>\n",
       "      <td>0.0</td>\n",
       "      <td>0.0</td>\n",
       "      <td>0.0</td>\n",
       "      <td>0.0</td>\n",
       "      <td>0.0</td>\n",
       "    </tr>\n",
       "    <tr>\n",
       "      <th>1</th>\n",
       "      <td>0.0</td>\n",
       "      <td>0.0</td>\n",
       "      <td>0.0</td>\n",
       "      <td>0.0</td>\n",
       "      <td>0.0</td>\n",
       "      <td>0.0</td>\n",
       "      <td>0.0</td>\n",
       "      <td>0.0</td>\n",
       "      <td>0.0</td>\n",
       "      <td>0.0</td>\n",
       "      <td>...</td>\n",
       "      <td>0.0</td>\n",
       "      <td>0.0</td>\n",
       "      <td>0.0</td>\n",
       "      <td>0.0</td>\n",
       "      <td>0.0</td>\n",
       "      <td>0.0</td>\n",
       "      <td>0.0</td>\n",
       "      <td>0.0</td>\n",
       "      <td>0.0</td>\n",
       "      <td>0.0</td>\n",
       "    </tr>\n",
       "    <tr>\n",
       "      <th>2</th>\n",
       "      <td>0.0</td>\n",
       "      <td>0.0</td>\n",
       "      <td>0.0</td>\n",
       "      <td>0.0</td>\n",
       "      <td>0.0</td>\n",
       "      <td>0.0</td>\n",
       "      <td>0.0</td>\n",
       "      <td>0.0</td>\n",
       "      <td>0.0</td>\n",
       "      <td>0.0</td>\n",
       "      <td>...</td>\n",
       "      <td>0.0</td>\n",
       "      <td>0.0</td>\n",
       "      <td>0.0</td>\n",
       "      <td>0.0</td>\n",
       "      <td>0.0</td>\n",
       "      <td>0.0</td>\n",
       "      <td>0.0</td>\n",
       "      <td>0.0</td>\n",
       "      <td>0.0</td>\n",
       "      <td>0.0</td>\n",
       "    </tr>\n",
       "    <tr>\n",
       "      <th>3</th>\n",
       "      <td>0.0</td>\n",
       "      <td>0.0</td>\n",
       "      <td>0.0</td>\n",
       "      <td>0.0</td>\n",
       "      <td>0.0</td>\n",
       "      <td>0.0</td>\n",
       "      <td>0.0</td>\n",
       "      <td>0.0</td>\n",
       "      <td>0.0</td>\n",
       "      <td>0.0</td>\n",
       "      <td>...</td>\n",
       "      <td>0.0</td>\n",
       "      <td>0.0</td>\n",
       "      <td>0.0</td>\n",
       "      <td>0.0</td>\n",
       "      <td>0.0</td>\n",
       "      <td>0.0</td>\n",
       "      <td>0.0</td>\n",
       "      <td>0.0</td>\n",
       "      <td>0.0</td>\n",
       "      <td>0.0</td>\n",
       "    </tr>\n",
       "    <tr>\n",
       "      <th>4</th>\n",
       "      <td>0.0</td>\n",
       "      <td>0.0</td>\n",
       "      <td>0.0</td>\n",
       "      <td>0.0</td>\n",
       "      <td>0.0</td>\n",
       "      <td>0.0</td>\n",
       "      <td>0.0</td>\n",
       "      <td>0.0</td>\n",
       "      <td>0.0</td>\n",
       "      <td>0.0</td>\n",
       "      <td>...</td>\n",
       "      <td>0.0</td>\n",
       "      <td>0.0</td>\n",
       "      <td>0.0</td>\n",
       "      <td>0.0</td>\n",
       "      <td>0.0</td>\n",
       "      <td>0.0</td>\n",
       "      <td>0.0</td>\n",
       "      <td>0.0</td>\n",
       "      <td>0.0</td>\n",
       "      <td>0.0</td>\n",
       "    </tr>\n",
       "  </tbody>\n",
       "</table>\n",
       "<p>5 rows × 2500 columns</p>\n",
       "</div>"
      ],
      "text/plain": [
       "   000   10  100   12  12 months   20  2019  3rd   40  500  ...  \\\n",
       "0  0.0  0.0  0.0  0.0        0.0  0.0   0.0  0.0  0.0  0.0  ...   \n",
       "1  0.0  0.0  0.0  0.0        0.0  0.0   0.0  0.0  0.0  0.0  ...   \n",
       "2  0.0  0.0  0.0  0.0        0.0  0.0   0.0  0.0  0.0  0.0  ...   \n",
       "3  0.0  0.0  0.0  0.0        0.0  0.0   0.0  0.0  0.0  0.0  ...   \n",
       "4  0.0  0.0  0.0  0.0        0.0  0.0   0.0  0.0  0.0  0.0  ...   \n",
       "\n",
       "   years experience  years hands  years industry  years professional  \\\n",
       "0               0.0          0.0             0.0                 0.0   \n",
       "1               0.0          0.0             0.0                 0.0   \n",
       "2               0.0          0.0             0.0                 0.0   \n",
       "3               0.0          0.0             0.0                 0.0   \n",
       "4               0.0          0.0             0.0                 0.0   \n",
       "\n",
       "   years relevant  years work  years xe2  york  york city   zf  \n",
       "0             0.0         0.0        0.0   0.0        0.0  0.0  \n",
       "1             0.0         0.0        0.0   0.0        0.0  0.0  \n",
       "2             0.0         0.0        0.0   0.0        0.0  0.0  \n",
       "3             0.0         0.0        0.0   0.0        0.0  0.0  \n",
       "4             0.0         0.0        0.0   0.0        0.0  0.0  \n",
       "\n",
       "[5 rows x 2500 columns]"
      ]
     },
     "execution_count": 132,
     "metadata": {},
     "output_type": "execute_result"
    }
   ],
   "source": [
    "from sklearn.feature_extraction.text import TfidfVectorizer\n",
    "\n",
    "# Instantiate vectorizer object\n",
    "tfidf = TfidfVectorizer(stop_words = 'english',\n",
    "                        ngram_range = (1,2),\n",
    "                        max_features = 2500)\n",
    "\n",
    "# Create a vocabulary and tf-idf score per document\n",
    "dtm = tfidf.fit_transform(df_job_lstgs_wrk['description_upd'])\n",
    "\n",
    "# Get feature names to use as dataframe column headers\n",
    "dtm = pd.DataFrame(dtm.todense(), columns=tfidf.get_feature_names())\n",
    "\n",
    "# View Feature Matrix as DataFrame\n",
    "print(dtm.shape)\n",
    "dtm.head()"
   ]
  },
  {
   "cell_type": "markdown",
   "metadata": {},
   "source": [
    "## 6) Create a NearestNeighbor Model. Write the description of your ideal datascience job and query your job listings. "
   ]
  },
  {
   "cell_type": "code",
   "execution_count": 133,
   "metadata": {
    "collapsed": false,
    "inputHidden": false,
    "jupyter": {
     "outputs_hidden": false
    },
    "outputHidden": false
   },
   "outputs": [
    {
     "data": {
      "text/plain": [
       "NearestNeighbors(algorithm='kd_tree', leaf_size=30, metric='minkowski',\n",
       "                 metric_params=None, n_jobs=None, n_neighbors=5, p=2,\n",
       "                 radius=1.0)"
      ]
     },
     "execution_count": 133,
     "metadata": {},
     "output_type": "execute_result"
    }
   ],
   "source": [
    "from sklearn.neighbors import NearestNeighbors\n",
    "\n",
    "# Fit on the nearest neighbors model TF-IDF feature matrix created above \n",
    "nn = NearestNeighbors(n_neighbors=5, algorithm='kd_tree')\n",
    "nn.fit(dtm)"
   ]
  },
  {
   "cell_type": "code",
   "execution_count": 134,
   "metadata": {},
   "outputs": [
    {
     "data": {
      "text/plain": [
       "(array([[0.        , 1.25102878, 1.27039645, 1.27902195, 1.27902195]]),\n",
       " array([[  0, 338, 403, 138,  42]]))"
      ]
     },
     "execution_count": 134,
     "metadata": {},
     "output_type": "execute_result"
    }
   ],
   "source": [
    "nn.kneighbors([dtm.iloc[0].values])"
   ]
  },
  {
   "cell_type": "code",
   "execution_count": 135,
   "metadata": {},
   "outputs": [],
   "source": [
    "my_job_description = [\"\"\"What You'll Do:\n",
    "Teach guided projects in PST morning hours, working closely with Team Leads and monitoring overall student participation and performance\n",
    "Review curriculum with cohort Team Leads (TLs) and Section Leads (SLs) so they can better support students in absorbing the instruction content\n",
    "Deliver curriculum that produces job market ready graduates\n",
    "Collaborate with curriculum team on the development of Data Science curriculum, providing strong subject-matter expertise to ensure curriculum reflects current and robust Data Science practices\n",
    "Coordinate cross functionally across multiple teams to contribute to the goals and initiatives of the Data Science program in conjunction with learning leadership plans and objectives\n",
    "Provide strong subject-matter expertise in Data Science, including foundational mathematics/statistics, practical software and data pipeline development, and current techniques such as neural networks and NLP\n",
    "Report to the Data Science Program Manager, providing details of status and student performance for the portion of curriculum you are responsible for\n",
    "What You'll Need:\n",
    "If your highest education is High School Diploma or GED, you are required to have 5+ years of working experience in the Data Science industry\n",
    "If your highest education is a College Degree (proof required), you are required to have 3+ years of working experience in the technical field\n",
    "General Python skills, and experience with the Python Data Science ecosystem (pandas, numpy, scikit-learn, etc.)\n",
    "Strong subject-matter expertise in Data Science - being broadly aware of practices, and knowing at least a few subtopics in depth\n",
    "Experience in teaching and/or curriculum design\n",
    "Excellent written and verbal communication skills; comfortable and compelling in public speaking situations\n",
    "Ability to work with a diverse group of individuals\n",
    "Self-starting with the ability to effectively work autonomously with little oversight\n",
    "Intelligent, dedicated, flexible with a willingness to experiment\n",
    "Have an interest in keeping up with the latest information in your field\n",
    "Bonus If You:\n",
    "Have experience with data engineering work at scale in real applications\n",
    "Are familiar with Zoom, Slack, or Notion \n",
    "Have a well known blog or high traffic Youtube channel focusing on Data Science\n",
    "Have presented at or have run local tech meet-ups\n",
    "Have prior rapid growth start up experience\"\"\"]"
   ]
  },
  {
   "cell_type": "code",
   "execution_count": 136,
   "metadata": {},
   "outputs": [
    {
     "data": {
      "text/plain": [
       "(array([[1.21994885, 1.21994885, 1.22511587, 1.22975701, 1.23342837]]),\n",
       " array([[400, 277, 201, 291, 401]]))"
      ]
     },
     "execution_count": 136,
     "metadata": {},
     "output_type": "execute_result"
    }
   ],
   "source": [
    "# Score the \"new\" document\n",
    "new_doc_score = tfidf.transform(my_job_description)\n",
    "\n",
    "# Execute the nearest neighbors model using the newly scored document\n",
    "nn.kneighbors(new_doc_score.todense())"
   ]
  },
  {
   "cell_type": "code",
   "execution_count": 137,
   "metadata": {},
   "outputs": [
    {
     "data": {
      "text/plain": [
       "'Purpose & Overall Relevance for the Organization:\\\\n\\\\nThis role will be responsible for researching, designing, engineering, and scaling advanced analytics models (statistical, neural networks, genetic algorithms, and others) in a designated area such as \\\\xe2\\\\x80\\\\x9ccustomer\\\\xe2\\\\x80\\\\x9d, \\\\xe2\\\\x80\\\\x9cquality\\\\xe2\\\\x80\\\\x9d, \\\\xe2\\\\x80\\\\x9cplant\\\\xe2\\\\x80\\\\x9d etc. The role will be tightly interlinked to ZF\\\\xe2\\\\x80\\\\x99s divisions / functions and IT, closely partnering with respective technical and business teams and data subject matter experts to deliver a comprehensive model strategy, roadmap, and actual models leveraging data sets synthesized from multiple data sources by the data engineering teams. The Principal Data Scientist will constantly seek to improve the performance and business impact of Advanced Analytical Models, as well as support the Digital Monetization team in monetization of Data and Analytics.\\\\n\\\\nPrincipal Subject Matter Expert for Data Science:\\\\nServe as an expert internal consultant for Data Science and Advanced Analytics and its integration with Enterprise IT systems, IoT, I4.0, Data, and Analytics across all ZF Divisions and Function\\\\nStrong background, knowledge and understanding of Data Science both in \\\\xe2\\\\x80\\\\x9ctraditional\\\\xe2\\\\x80\\\\x9d statistical based methods as well as \\\\xe2\\\\x80\\\\x9cmachine learning\\\\xe2\\\\x80\\\\x9d methods such as neural networks, genetic algorithms, etc. Ph.D. or similar level of accomplishment evidenced by patents or papers.\\\\nProven track record of working across the enterprise and with IT.\\\\nData Science Management:\\\\nServe as the Single Point of Contact (SPOC) for Data Science and Advanced Analytics in a designated functional domain.\\\\nWork with Senior technology stakeholders to articulate opportunities for Advanced Analytics across the ZF portfolio.\\\\nIdentify and facilitate x-division/function synergies and collaborative Data Science opportunities \\\\xe2\\\\x80\\\\x93 deliver \\\\xe2\\\\x80\\\\x9cwhole is greater than the sum of the parts\\\\xe2\\\\x80\\\\x9d in the designated area.\\\\nManage the technical content, education, best practices, and technical competency in data science and advanced analytics in designated domain.\\\\nManage and Oversee Lighthouse Data Science Initiatives:\\\\nOverall responsibility for achieving the quality outcomes of the lighthouse Data Science projects to create large scale Advanced Analytics models that provide significant business outcomes.\\\\nDevelop modules and implementation patterns on the ZF platforms to accelerate delivery of Lighthouse Data Science and Advanced Analytics and other capabilities.\\\\nManage the Transformational Change:\\\\nFoster company-wide commitment for Data Science and Advanced Analytics as part of the digital strategy and prioritize initiatives per the company needs, and align it with the overall strategy of the company.\\\\nAct as the ambassador within the company for Digital transformation\\\\nAct as a spokesperson in the external community helping ZF positioning as a Digital leader, attracting highly talented workforce\\\\n\\\\nKey Responsibilities:\\\\nRelationship management with Divisions/Functions to ensure buy in to Data Science and Advanced Analytics.\\\\nCoordination work and relevant communication with other cross functional teams within the broader ZF organization (IT, R&D, \\\\xe2\\\\x80\\\\xa6) to assure seamless and \\\\xe2\\\\x80\\\\x9cTeam Beats Silos\\\\xe2\\\\x80\\\\x9d delivery.\\\\nAct as the change agent in building credibility for the Digital organization by consistently delivering to business expectations\\\\nWork with the internal teams (Digital Labs, Digital Factory, \\\\xe2\\\\x80\\\\xa6) to maximize synergy.\\\\nSupport the build-up of an efficient organization that allows for realization of ZF\\\\xe2\\\\x80\\\\x99s Digital goals\\\\nLead and manage necessary project teams to successfully deliver the stated objectives for lighthouse Data Science and Advanced Analytics projects.\\\\nUse appropriate and effective communication methods to engage and manage stakeholder expectations.\\\\nHands on development of key models leveraging data wrangling required and Analytical Data Assets delivered by Data Engineering.\\\\n\\\\nAuthorities:\\\\nTechnical leadership in Data Science and Advanced Analytics\\\\nBusiness Relationship Management\\\\nLife cycle ownership for models\\\\nResponsibility for realizing stated objectives for Data Science\\\\n\\\\n\\\\nKey Relationships:\\\\n\\\\nDivisional / Functional technical leaders, decision makers, and subject matter experts\\\\nProject teams within the ZF Digital Organization\\\\nProject vendors for development\\\\nCross Functional Coordination with IT, R&D\\\\n\\\\nEducation Requirements\\\\n\\\\nA technical degree from an accredited college or university is required; an advanced degree or equivalent technical standing\\\\n\\\\n\\\\nExperience and Skill Requirements\\\\nDemonstrated experience working both at either an OEM or the supply base, or equivalent\\\\nPassion for technology with the requisite operations expertise and an entrepreneurial spirt\\\\nA builder, not just a refiner, who is versatile and agile in an evolving environment\\\\nMinimum of 10-20 years of experience in Data Science with at least 3 years of technical leadership experience with function-wide responsibility preferably in a complex organization\\\\nStrong managing, organizing and evaluating skills with a track record of developing and implementing sophisticated advanced analytics models and managing their lifecycle.\\\\nDemonstrated capability to communicate findings, orally and visually, to senior leadership members and outside partners and customers in the technology ecosystem\\\\nDeep technical understanding of Data Science as well as a demonstrated track record of envisioning the application of these methods to achieve documented results.\\\\nAbility to impact outcomes via influence versus authority\\\\nEffective negotiation and influencing skills, including strong written and verbal communication and strong presentation abilities\\\\nDevelops loyalty and commitment in others by articulating an appealing vision for the future, communicating high expectations and leading by example\\\\nA player/coach who is focused on mentorship and development\\\\nCan \\\\xe2\\\\x80\\\\x9cwork the matrix\\\\xe2\\\\x80\\\\x9d and gain credibility quickly with internal and external constituents\\\\nA technical degree from an accredited college or university is required; an advanced degree or equivalent technical standing a plus\\\\nCreative and organized problem solver who is passionate about driving strategy through technology\\\\nStrategic mind-set to maintain enterprise-level vision, while driving daily operational goals and controls\\\\nInspires heartfelt engagement, a collaborator with the ability to influence and build consensus\\\\nConsistently achieves results, even under tough circumstances\\\\nClear and efficient communicator\\\\nLeader and collegial team player with strong interpersonal skills balancing low ego with management capabilities\\\\n\\\\n\\\\n\\\\nEqual Employment Opportunity/Affirmative Action Employer M/F/Disability/Veteran\\\\n\\\\n41476BR'"
      ]
     },
     "execution_count": 137,
     "metadata": {},
     "output_type": "execute_result"
    }
   ],
   "source": [
    "# Print out the most relevant document\n",
    "df_job_lstgs_wrk['description_upd'][400]"
   ]
  },
  {
   "cell_type": "markdown",
   "metadata": {
    "colab_type": "text",
    "id": "FiDfTWceoRkH"
   },
   "source": [
    "## Stretch Goals\n",
    "\n",
    " - Try different visualizations for words and frequencies - what story do you want to tell with the data?\n",
    " - Scrape Job Listings for the job title \"Data Analyst\". How do these differ from Data Scientist Job Listings\n",
    " - Try and identify requirements for experience specific technologies that are asked for in the job listings. How are those distributed among the job listings?\n",
    " - Use a clustering algorithm to cluster documents by their most important terms. Do the clusters reveal any common themes?\n",
    "  - **Hint:** K-means might not be the best algorithm for this. Do a little bit of research to see what might be good for this. Also, remember that algorithms that depend on Euclidean distance break down with high dimensional data.\n",
    " - Create a labeled dataset - which jobs will you apply for? Train a model to select the jobs you are most likely to apply for. :) "
   ]
  },
  {
   "cell_type": "code",
   "execution_count": null,
   "metadata": {},
   "outputs": [],
   "source": []
  }
 ],
 "metadata": {
  "colab": {
   "collapsed_sections": [],
   "name": "LS_DS_422_BOW_Assignment.ipynb",
   "provenance": [],
   "version": "0.3.2"
  },
  "kernel_info": {
   "name": "python3"
  },
  "kernelspec": {
   "display_name": "U4-S1-NLP (Python3)",
   "language": "python",
   "name": "u4-s1-nlp"
  },
  "language_info": {
   "codemirror_mode": {
    "name": "ipython",
    "version": 3
   },
   "file_extension": ".py",
   "mimetype": "text/x-python",
   "name": "python",
   "nbconvert_exporter": "python",
   "pygments_lexer": "ipython3",
   "version": "3.7.0"
  },
  "nteract": {
   "version": "0.14.3"
  }
 },
 "nbformat": 4,
 "nbformat_minor": 4
}
